{
 "cells": [
  {
   "cell_type": "code",
   "execution_count": 3,
   "metadata": {},
   "outputs": [],
   "source": [
    "import pandas as pd\n",
    "import numpy as np\n",
    "\n",
    "dfs = []\n",
    "for i in range(2017,2022):\n",
    "    dfs.append(pd.read_csv(f\"{i}_lake_data.csv\"))\n",
    "\n",
    "df = pd.concat(dfs)\n",
    "df\n",
    "df.to_csv('combined_lake_data.csv', index=False)"
   ]
  },
  {
   "cell_type": "code",
   "execution_count": 5,
   "metadata": {},
   "outputs": [
    {
     "name": "stdout",
     "output_type": "stream",
     "text": [
      "     STN Code                        Name of Monitoring Location  \\\n",
      "0      1790.0                    PULICATE LAKE , NELLORE \\nDIST.   \n",
      "1      2353.0  KONDACHARLA-AAVA LAKE, \\nPARAWADA PHARMA CITY,...   \n",
      "2      2205.0                     MER BEEL AT MADHABPUR, \\nASSAM   \n",
      "3      2206.0                DALONI BEEL NEAR \\nJOGIGHOPA, ASSAM   \n",
      "4      1263.0  ELANGABEEL SYSTEM POND \\n(CONNECTED TO R. KOLA...   \n",
      "..        ...                                                ...   \n",
      "579    3086.0               SAKI TANK, PATANCHERU, RANGA \\nREDDY   \n",
      "587    4643.0                       RUDRASAGAR EAST LAKE TRIPURA   \n",
      "588    4642.0                      RUDRASAGAR NORTH LAKE,TRIPURA   \n",
      "589    4644.0                       RUDRASAGAR WEST LAKE TRIPURA   \n",
      "606    1362.0      NAINI LAKE AT NAINITAL (WATER \\nINTAKE POINT)   \n",
      "\n",
      "    Type Water Body        State Name Min Temperature Max Temperature  \\\n",
      "0              LAKE  ANDHRA \\nPRADESH            27.0            28.0   \n",
      "1              LAKE  ANDHRA \\nPRADESH            24.0            28.0   \n",
      "2              LAKE             ASSAM            20.0            27.0   \n",
      "3              LAKE             ASSAM            22.0            36.0   \n",
      "4              POND             ASSAM            22.0            34.0   \n",
      "..              ...               ...             ...             ...   \n",
      "579            TANK         TELANGANA            18.0            23.0   \n",
      "587            LAKE           TRIPURA            18.0            29.0   \n",
      "588            LAKE           TRIPURA            18.0            29.0   \n",
      "589            LAKE           TRIPURA            18.0            29.0   \n",
      "606            LAKE       UTTARAKHAND             9.0            22.0   \n",
      "\n",
      "    Min Dissolved Oxygen Max Dissolved Oxygen Min pH Max pH Min Conductivity  \\\n",
      "0                    5.1                  6.9    7.1    8.5           3270.0   \n",
      "1                    5.9                  6.8    6.9    8.4            597.0   \n",
      "2                    2.2                  7.2    5.7    7.0             50.0   \n",
      "3                    5.1                  6.0    6.6    7.8             54.0   \n",
      "4                    0.7                  4.6    6.8    8.4            263.0   \n",
      "..                   ...                  ...    ...    ...              ...   \n",
      "579                  5.2                  6.6    6.8    7.5              689   \n",
      "587                  5.2                  6.3    7.1    7.5              152   \n",
      "588                  5.3                  6.9    6.9    7.3              148   \n",
      "589                  5.6                  6.5    7.0    7.7              129   \n",
      "606                  7.6                  9.6    7.2    7.8              370   \n",
      "\n",
      "    Max Conductivity Min BOD Max BOD Min Nitrate N + Nitrite N  \\\n",
      "0           156600.0     1.0     2.3                      0.65   \n",
      "1             1034.0     1.3     2.3                      1.16   \n",
      "2              128.0     1.0    16.2                       0.1   \n",
      "3              153.0     0.9     2.8                       0.1   \n",
      "4              972.0     4.5    14.7                       0.8   \n",
      "..               ...     ...     ...                       ...   \n",
      "579             1180     3.0     6.2                      6.16   \n",
      "587              203     1.0     1.9                      0.74   \n",
      "588              206     1.4     2.3                      0.72   \n",
      "589              181     1.0     2.1                      0.73   \n",
      "606              440     1.0     2.0                      0.32   \n",
      "\n",
      "    Max Nitrate N + Nitrite N Min Fecal Coliform Max Fecal Coliform  \\\n",
      "0                         6.9                2.0                2.0   \n",
      "1                        3.36               11.0               29.0   \n",
      "2                         1.7              300.0             2000.0   \n",
      "3                         1.4              300.0             1200.0   \n",
      "4                         5.7             1100.0             3500.0   \n",
      "..                        ...                ...                ...   \n",
      "579                     14.10                  6                 11   \n",
      "587                      2.73                 21                 58   \n",
      "588                      3.50                 27                 84   \n",
      "589                      2.73                 25                 63   \n",
      "606                      0.36                140                350   \n",
      "\n",
      "    Min Total Coliform Max Total Coliform  \n",
      "0                800.0             1600.0  \n",
      "1                350.0             2400.0  \n",
      "2                360.0             6400.0  \n",
      "3                300.0             5300.0  \n",
      "4                730.0            21000.0  \n",
      "..                 ...                ...  \n",
      "579                 34                 48  \n",
      "587                 94                220  \n",
      "588                150                280  \n",
      "589                150                280  \n",
      "606                350                920  \n",
      "\n",
      "[1203 rows x 20 columns]\n"
     ]
    }
   ],
   "source": [
    "# Supprimer les doublons en fonction de certaines colonnes\n",
    "df = df.drop_duplicates(subset=['STN Code', 'Name of Monitoring Location'])\n",
    "\n",
    "# Vérifier si les doublons ont été supprimés\n",
    "print(df)"
   ]
  },
  {
   "cell_type": "code",
   "execution_count": 6,
   "metadata": {},
   "outputs": [],
   "source": [
    "df.to_csv('combined_lake_datanoduplicate.csv', index=False)"
   ]
  },
  {
   "cell_type": "code",
   "execution_count": null,
   "metadata": {},
   "outputs": [],
   "source": []
  }
 ],
 "metadata": {
  "kernelspec": {
   "display_name": "MLOPs",
   "language": "python",
   "name": "python3"
  },
  "language_info": {
   "codemirror_mode": {
    "name": "ipython",
    "version": 3
   },
   "file_extension": ".py",
   "mimetype": "text/x-python",
   "name": "python",
   "nbconvert_exporter": "python",
   "pygments_lexer": "ipython3",
   "version": "3.12.7"
  }
 },
 "nbformat": 4,
 "nbformat_minor": 2
}
