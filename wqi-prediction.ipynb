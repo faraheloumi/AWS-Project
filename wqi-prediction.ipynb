{
 "cells": [
  {
   "cell_type": "markdown",
   "id": "d43e7cba",
   "metadata": {
    "papermill": {
     "duration": 0.013935,
     "end_time": "2023-05-28T18:34:48.850224",
     "exception": false,
     "start_time": "2023-05-28T18:34:48.836289",
     "status": "completed"
    },
    "tags": []
   },
   "source": [
    "# Preparing Data"
   ]
  },
  {
   "cell_type": "code",
   "execution_count": 78,
   "id": "bb183b33",
   "metadata": {
    "execution": {
     "iopub.execute_input": "2023-05-28T18:34:48.876672Z",
     "iopub.status.busy": "2023-05-28T18:34:48.876135Z",
     "iopub.status.idle": "2023-05-28T18:34:49.019999Z",
     "shell.execute_reply": "2023-05-28T18:34:49.018899Z"
    },
    "papermill": {
     "duration": 0.161238,
     "end_time": "2023-05-28T18:34:49.023494",
     "exception": false,
     "start_time": "2023-05-28T18:34:48.862256",
     "status": "completed"
    },
    "tags": []
   },
   "outputs": [
    {
     "name": "stdout",
     "output_type": "stream",
     "text": [
      "      STN Code                        Name of Monitoring Location  \\\n",
      "0         1790                      PULICATE LAKE , NELLORE DIST.   \n",
      "1         2353  KONDACHARLA-AAVA LAKE, PARAWADA PHARMA CITY, V...   \n",
      "2         2205                       MER BEEL AT MADHABPUR, ASSAM   \n",
      "3         2206                  DALONI BEEL NEAR JOGIGHOPA, ASSAM   \n",
      "4         2557                       KAWAR LAKE, BEGUSARAI, BIHAR   \n",
      "...        ...                                                ...   \n",
      "1066      5050  VENNA CHERUVU, JEEDIMETLA, QUTUBULLAPUR, MEDCH...   \n",
      "1067      5042  YELLAMMA CHERUVU, KUKATPALLY, MEDCHAL - MALKAGIRI   \n",
      "1068      5031                   YERRA KUNTA, SHAIKPET, HYDERABAD   \n",
      "1078      3437                                      BHEEMTAL LAKE   \n",
      "1079      1362        NAINI LAKE AT NAINITAL (WATER INTAKE POINT)   \n",
      "\n",
      "            State Name  Min Temperature  Max Temperature  \\\n",
      "0     ANDHRA \\nPRADESH             27.0             28.0   \n",
      "1     ANDHRA \\nPRADESH             24.0             28.0   \n",
      "2                ASSAM             20.0             27.0   \n",
      "3                ASSAM             22.0             36.0   \n",
      "4                BIHAR             19.0             32.0   \n",
      "...                ...              ...              ...   \n",
      "1066         TELANGANA             27.0             30.0   \n",
      "1067         TELANGANA             27.0             28.0   \n",
      "1068         TELANGANA             22.0             29.0   \n",
      "1078       UTTARAKHAND             11.0             23.0   \n",
      "1079       UTTARAKHAND              9.0             22.0   \n",
      "\n",
      "      Min Dissolved Oxygen  Max Dissolved Oxygen  Min pH  Max pH  \\\n",
      "0                      5.1                   6.9     7.1     8.5   \n",
      "1                      5.9                   6.8     6.9     8.4   \n",
      "2                      2.2                   7.2     5.7     7.0   \n",
      "3                      5.1                   6.0     6.6     7.8   \n",
      "4                      5.4                   8.0     7.2     7.9   \n",
      "...                    ...                   ...     ...     ...   \n",
      "1066                   0.3                   3.1     7.1     7.8   \n",
      "1067                   0.3                   3.0     7.0     8.1   \n",
      "1068                   0.3                   3.8     7.2     8.0   \n",
      "1078                   7.4                   9.0     7.2     8.0   \n",
      "1079                   7.6                   9.6     7.2     7.8   \n",
      "\n",
      "      Min Conductivity  ...  Min BOD  Max BOD  Min Nitrate N + Nitrite N  \\\n",
      "0               3270.0  ...      1.0      2.3                       0.65   \n",
      "1                597.0  ...      1.3      2.3                       1.16   \n",
      "2                 50.0  ...      1.0     16.2                       0.10   \n",
      "3                 54.0  ...      0.9      2.8                       0.10   \n",
      "4                222.0  ...      2.1      2.8                       0.00   \n",
      "...                ...  ...      ...      ...                        ...   \n",
      "1066            1312.0  ...      5.0     16.0                       7.80   \n",
      "1067            1027.0  ...      5.8     20.0                       0.60   \n",
      "1068             740.0  ...      4.0     19.0                       0.90   \n",
      "1078             160.0  ...      1.0      1.6                       0.32   \n",
      "1079             370.0  ...      1.0      2.0                       0.32   \n",
      "\n",
      "      Max Nitrate N + Nitrite N  Min Fecal Coliform  Max Fecal Coliform  \\\n",
      "0                          6.90                 2.0                 2.0   \n",
      "1                          3.36                11.0                29.0   \n",
      "2                          1.70               300.0              2000.0   \n",
      "3                          1.40               300.0              1200.0   \n",
      "4                          0.00              7000.0             26000.0   \n",
      "...                         ...                 ...                 ...   \n",
      "1066                      52.00                 9.0                63.0   \n",
      "1067                      37.00                27.0                63.0   \n",
      "1068                       8.60                 2.0                57.0   \n",
      "1078                       0.37                70.0               170.0   \n",
      "1079                       0.36               140.0               350.0   \n",
      "\n",
      "      Min Total Coliform  Max Total Coliform        lat        lon  \n",
      "0                  800.0              1600.0  13.695333  80.059293  \n",
      "1                  350.0              2400.0  17.603203  83.000845  \n",
      "2                  360.0              6400.0  26.407384  93.255130  \n",
      "3                  300.0              5300.0  26.407384  93.255130  \n",
      "4                15000.0             38000.0  25.512541  86.088339  \n",
      "...                  ...                 ...        ...        ...  \n",
      "1066               130.0               540.0  17.519687  78.446888  \n",
      "1067               220.0               920.0  18.612131  79.368488  \n",
      "1068               220.0               920.0  17.806692  78.174147  \n",
      "1078               210.0               540.0  30.041738  79.089691  \n",
      "1079               350.0               920.0  30.041738  79.089691  \n",
      "\n",
      "[339 rows x 21 columns]\n"
     ]
    }
   ],
   "source": [
    "import pandas as pd\n",
    "import numpy as np\n",
    "\n",
    "# Charger le fichier CSV dans un DataFrame\n",
    "dfs = []  # Liste pour stocker les DataFrames\n",
    "dfs.append(pd.read_csv(\"updated_locations.csv\"))  # Charger un DataFrame\n",
    "\n",
    "dfs\n",
    "\n",
    "# Accéder au DataFrame dans la liste (par exemple, dfs[0])\n",
    "df = dfs[0]  # dfs est une liste, donc dfs[0] accède au premier DataFrame\n",
    "\n",
    "# Supprimer les doublons en fonction de la colonne 'STN Code'\n",
    "df_unique = df.drop_duplicates(subset=['STN Code'])\n",
    "\n",
    "# Afficher le DataFrame sans doublons\n",
    "print(df_unique)\n"
   ]
  },
  {
   "cell_type": "code",
   "execution_count": 79,
   "id": "03d38f67",
   "metadata": {
    "execution": {
     "iopub.execute_input": "2023-05-28T18:34:49.050310Z",
     "iopub.status.busy": "2023-05-28T18:34:49.049907Z",
     "iopub.status.idle": "2023-05-28T18:34:49.114013Z",
     "shell.execute_reply": "2023-05-28T18:34:49.113175Z"
    },
    "papermill": {
     "duration": 0.08028,
     "end_time": "2023-05-28T18:34:49.116193",
     "exception": false,
     "start_time": "2023-05-28T18:34:49.035913",
     "status": "completed"
    },
    "tags": []
   },
   "outputs": [
    {
     "data": {
      "text/html": [
       "<div>\n",
       "<style scoped>\n",
       "    .dataframe tbody tr th:only-of-type {\n",
       "        vertical-align: middle;\n",
       "    }\n",
       "\n",
       "    .dataframe tbody tr th {\n",
       "        vertical-align: top;\n",
       "    }\n",
       "\n",
       "    .dataframe thead th {\n",
       "        text-align: right;\n",
       "    }\n",
       "</style>\n",
       "<table border=\"1\" class=\"dataframe\">\n",
       "  <thead>\n",
       "    <tr style=\"text-align: right;\">\n",
       "      <th></th>\n",
       "      <th>STN Code</th>\n",
       "      <th>Name of Monitoring Location</th>\n",
       "      <th>State Name</th>\n",
       "      <th>Min Temperature</th>\n",
       "      <th>Max Temperature</th>\n",
       "      <th>Min Dissolved Oxygen</th>\n",
       "      <th>Max Dissolved Oxygen</th>\n",
       "      <th>Min pH</th>\n",
       "      <th>Max pH</th>\n",
       "      <th>Min Conductivity</th>\n",
       "      <th>...</th>\n",
       "      <th>Min BOD</th>\n",
       "      <th>Max BOD</th>\n",
       "      <th>Min Nitrate N + Nitrite N</th>\n",
       "      <th>Max Nitrate N + Nitrite N</th>\n",
       "      <th>Min Fecal Coliform</th>\n",
       "      <th>Max Fecal Coliform</th>\n",
       "      <th>Min Total Coliform</th>\n",
       "      <th>Max Total Coliform</th>\n",
       "      <th>lat</th>\n",
       "      <th>lon</th>\n",
       "    </tr>\n",
       "  </thead>\n",
       "  <tbody>\n",
       "    <tr>\n",
       "      <th>0</th>\n",
       "      <td>1790</td>\n",
       "      <td>PULICATE LAKE , NELLORE DIST.</td>\n",
       "      <td>ANDHRA \\nPRADESH</td>\n",
       "      <td>27.0</td>\n",
       "      <td>28.0</td>\n",
       "      <td>5.1</td>\n",
       "      <td>6.9</td>\n",
       "      <td>7.1</td>\n",
       "      <td>8.5</td>\n",
       "      <td>3270.0</td>\n",
       "      <td>...</td>\n",
       "      <td>1.0</td>\n",
       "      <td>2.3</td>\n",
       "      <td>0.65</td>\n",
       "      <td>6.90</td>\n",
       "      <td>2.0</td>\n",
       "      <td>2.0</td>\n",
       "      <td>800.0</td>\n",
       "      <td>1600.0</td>\n",
       "      <td>13.695333</td>\n",
       "      <td>80.059293</td>\n",
       "    </tr>\n",
       "    <tr>\n",
       "      <th>1</th>\n",
       "      <td>2353</td>\n",
       "      <td>KONDACHARLA-AAVA LAKE, PARAWADA PHARMA CITY, V...</td>\n",
       "      <td>ANDHRA \\nPRADESH</td>\n",
       "      <td>24.0</td>\n",
       "      <td>28.0</td>\n",
       "      <td>5.9</td>\n",
       "      <td>6.8</td>\n",
       "      <td>6.9</td>\n",
       "      <td>8.4</td>\n",
       "      <td>597.0</td>\n",
       "      <td>...</td>\n",
       "      <td>1.3</td>\n",
       "      <td>2.3</td>\n",
       "      <td>1.16</td>\n",
       "      <td>3.36</td>\n",
       "      <td>11.0</td>\n",
       "      <td>29.0</td>\n",
       "      <td>350.0</td>\n",
       "      <td>2400.0</td>\n",
       "      <td>17.603203</td>\n",
       "      <td>83.000845</td>\n",
       "    </tr>\n",
       "    <tr>\n",
       "      <th>2</th>\n",
       "      <td>2205</td>\n",
       "      <td>MER BEEL AT MADHABPUR, ASSAM</td>\n",
       "      <td>ASSAM</td>\n",
       "      <td>20.0</td>\n",
       "      <td>27.0</td>\n",
       "      <td>2.2</td>\n",
       "      <td>7.2</td>\n",
       "      <td>5.7</td>\n",
       "      <td>7.0</td>\n",
       "      <td>50.0</td>\n",
       "      <td>...</td>\n",
       "      <td>1.0</td>\n",
       "      <td>16.2</td>\n",
       "      <td>0.10</td>\n",
       "      <td>1.70</td>\n",
       "      <td>300.0</td>\n",
       "      <td>2000.0</td>\n",
       "      <td>360.0</td>\n",
       "      <td>6400.0</td>\n",
       "      <td>26.407384</td>\n",
       "      <td>93.255130</td>\n",
       "    </tr>\n",
       "    <tr>\n",
       "      <th>3</th>\n",
       "      <td>2206</td>\n",
       "      <td>DALONI BEEL NEAR JOGIGHOPA, ASSAM</td>\n",
       "      <td>ASSAM</td>\n",
       "      <td>22.0</td>\n",
       "      <td>36.0</td>\n",
       "      <td>5.1</td>\n",
       "      <td>6.0</td>\n",
       "      <td>6.6</td>\n",
       "      <td>7.8</td>\n",
       "      <td>54.0</td>\n",
       "      <td>...</td>\n",
       "      <td>0.9</td>\n",
       "      <td>2.8</td>\n",
       "      <td>0.10</td>\n",
       "      <td>1.40</td>\n",
       "      <td>300.0</td>\n",
       "      <td>1200.0</td>\n",
       "      <td>300.0</td>\n",
       "      <td>5300.0</td>\n",
       "      <td>26.407384</td>\n",
       "      <td>93.255130</td>\n",
       "    </tr>\n",
       "    <tr>\n",
       "      <th>4</th>\n",
       "      <td>2557</td>\n",
       "      <td>KAWAR LAKE, BEGUSARAI, BIHAR</td>\n",
       "      <td>BIHAR</td>\n",
       "      <td>19.0</td>\n",
       "      <td>32.0</td>\n",
       "      <td>5.4</td>\n",
       "      <td>8.0</td>\n",
       "      <td>7.2</td>\n",
       "      <td>7.9</td>\n",
       "      <td>222.0</td>\n",
       "      <td>...</td>\n",
       "      <td>2.1</td>\n",
       "      <td>2.8</td>\n",
       "      <td>0.00</td>\n",
       "      <td>0.00</td>\n",
       "      <td>7000.0</td>\n",
       "      <td>26000.0</td>\n",
       "      <td>15000.0</td>\n",
       "      <td>38000.0</td>\n",
       "      <td>25.512541</td>\n",
       "      <td>86.088339</td>\n",
       "    </tr>\n",
       "    <tr>\n",
       "      <th>...</th>\n",
       "      <td>...</td>\n",
       "      <td>...</td>\n",
       "      <td>...</td>\n",
       "      <td>...</td>\n",
       "      <td>...</td>\n",
       "      <td>...</td>\n",
       "      <td>...</td>\n",
       "      <td>...</td>\n",
       "      <td>...</td>\n",
       "      <td>...</td>\n",
       "      <td>...</td>\n",
       "      <td>...</td>\n",
       "      <td>...</td>\n",
       "      <td>...</td>\n",
       "      <td>...</td>\n",
       "      <td>...</td>\n",
       "      <td>...</td>\n",
       "      <td>...</td>\n",
       "      <td>...</td>\n",
       "      <td>...</td>\n",
       "      <td>...</td>\n",
       "    </tr>\n",
       "    <tr>\n",
       "      <th>334</th>\n",
       "      <td>5050</td>\n",
       "      <td>VENNA CHERUVU, JEEDIMETLA, QUTUBULLAPUR, MEDCH...</td>\n",
       "      <td>TELANGANA</td>\n",
       "      <td>27.0</td>\n",
       "      <td>30.0</td>\n",
       "      <td>0.3</td>\n",
       "      <td>3.1</td>\n",
       "      <td>7.1</td>\n",
       "      <td>7.8</td>\n",
       "      <td>1312.0</td>\n",
       "      <td>...</td>\n",
       "      <td>5.0</td>\n",
       "      <td>16.0</td>\n",
       "      <td>7.80</td>\n",
       "      <td>52.00</td>\n",
       "      <td>9.0</td>\n",
       "      <td>63.0</td>\n",
       "      <td>130.0</td>\n",
       "      <td>540.0</td>\n",
       "      <td>17.519687</td>\n",
       "      <td>78.446888</td>\n",
       "    </tr>\n",
       "    <tr>\n",
       "      <th>335</th>\n",
       "      <td>5042</td>\n",
       "      <td>YELLAMMA CHERUVU, KUKATPALLY, MEDCHAL - MALKAGIRI</td>\n",
       "      <td>TELANGANA</td>\n",
       "      <td>27.0</td>\n",
       "      <td>28.0</td>\n",
       "      <td>0.3</td>\n",
       "      <td>3.0</td>\n",
       "      <td>7.0</td>\n",
       "      <td>8.1</td>\n",
       "      <td>1027.0</td>\n",
       "      <td>...</td>\n",
       "      <td>5.8</td>\n",
       "      <td>20.0</td>\n",
       "      <td>0.60</td>\n",
       "      <td>37.00</td>\n",
       "      <td>27.0</td>\n",
       "      <td>63.0</td>\n",
       "      <td>220.0</td>\n",
       "      <td>920.0</td>\n",
       "      <td>18.612131</td>\n",
       "      <td>79.368488</td>\n",
       "    </tr>\n",
       "    <tr>\n",
       "      <th>336</th>\n",
       "      <td>5031</td>\n",
       "      <td>YERRA KUNTA, SHAIKPET, HYDERABAD</td>\n",
       "      <td>TELANGANA</td>\n",
       "      <td>22.0</td>\n",
       "      <td>29.0</td>\n",
       "      <td>0.3</td>\n",
       "      <td>3.8</td>\n",
       "      <td>7.2</td>\n",
       "      <td>8.0</td>\n",
       "      <td>740.0</td>\n",
       "      <td>...</td>\n",
       "      <td>4.0</td>\n",
       "      <td>19.0</td>\n",
       "      <td>0.90</td>\n",
       "      <td>8.60</td>\n",
       "      <td>2.0</td>\n",
       "      <td>57.0</td>\n",
       "      <td>220.0</td>\n",
       "      <td>920.0</td>\n",
       "      <td>17.806692</td>\n",
       "      <td>78.174147</td>\n",
       "    </tr>\n",
       "    <tr>\n",
       "      <th>337</th>\n",
       "      <td>3437</td>\n",
       "      <td>BHEEMTAL LAKE</td>\n",
       "      <td>UTTARAKHAND</td>\n",
       "      <td>11.0</td>\n",
       "      <td>23.0</td>\n",
       "      <td>7.4</td>\n",
       "      <td>9.0</td>\n",
       "      <td>7.2</td>\n",
       "      <td>8.0</td>\n",
       "      <td>160.0</td>\n",
       "      <td>...</td>\n",
       "      <td>1.0</td>\n",
       "      <td>1.6</td>\n",
       "      <td>0.32</td>\n",
       "      <td>0.37</td>\n",
       "      <td>70.0</td>\n",
       "      <td>170.0</td>\n",
       "      <td>210.0</td>\n",
       "      <td>540.0</td>\n",
       "      <td>30.041738</td>\n",
       "      <td>79.089691</td>\n",
       "    </tr>\n",
       "    <tr>\n",
       "      <th>338</th>\n",
       "      <td>1362</td>\n",
       "      <td>NAINI LAKE AT NAINITAL (WATER INTAKE POINT)</td>\n",
       "      <td>UTTARAKHAND</td>\n",
       "      <td>9.0</td>\n",
       "      <td>22.0</td>\n",
       "      <td>7.6</td>\n",
       "      <td>9.6</td>\n",
       "      <td>7.2</td>\n",
       "      <td>7.8</td>\n",
       "      <td>370.0</td>\n",
       "      <td>...</td>\n",
       "      <td>1.0</td>\n",
       "      <td>2.0</td>\n",
       "      <td>0.32</td>\n",
       "      <td>0.36</td>\n",
       "      <td>140.0</td>\n",
       "      <td>350.0</td>\n",
       "      <td>350.0</td>\n",
       "      <td>920.0</td>\n",
       "      <td>30.041738</td>\n",
       "      <td>79.089691</td>\n",
       "    </tr>\n",
       "  </tbody>\n",
       "</table>\n",
       "<p>339 rows × 21 columns</p>\n",
       "</div>"
      ],
      "text/plain": [
       "     STN Code                        Name of Monitoring Location  \\\n",
       "0        1790                      PULICATE LAKE , NELLORE DIST.   \n",
       "1        2353  KONDACHARLA-AAVA LAKE, PARAWADA PHARMA CITY, V...   \n",
       "2        2205                       MER BEEL AT MADHABPUR, ASSAM   \n",
       "3        2206                  DALONI BEEL NEAR JOGIGHOPA, ASSAM   \n",
       "4        2557                       KAWAR LAKE, BEGUSARAI, BIHAR   \n",
       "..        ...                                                ...   \n",
       "334      5050  VENNA CHERUVU, JEEDIMETLA, QUTUBULLAPUR, MEDCH...   \n",
       "335      5042  YELLAMMA CHERUVU, KUKATPALLY, MEDCHAL - MALKAGIRI   \n",
       "336      5031                   YERRA KUNTA, SHAIKPET, HYDERABAD   \n",
       "337      3437                                      BHEEMTAL LAKE   \n",
       "338      1362        NAINI LAKE AT NAINITAL (WATER INTAKE POINT)   \n",
       "\n",
       "           State Name  Min Temperature  Max Temperature  Min Dissolved Oxygen  \\\n",
       "0    ANDHRA \\nPRADESH             27.0             28.0                   5.1   \n",
       "1    ANDHRA \\nPRADESH             24.0             28.0                   5.9   \n",
       "2               ASSAM             20.0             27.0                   2.2   \n",
       "3               ASSAM             22.0             36.0                   5.1   \n",
       "4               BIHAR             19.0             32.0                   5.4   \n",
       "..                ...              ...              ...                   ...   \n",
       "334         TELANGANA             27.0             30.0                   0.3   \n",
       "335         TELANGANA             27.0             28.0                   0.3   \n",
       "336         TELANGANA             22.0             29.0                   0.3   \n",
       "337       UTTARAKHAND             11.0             23.0                   7.4   \n",
       "338       UTTARAKHAND              9.0             22.0                   7.6   \n",
       "\n",
       "     Max Dissolved Oxygen  Min pH  Max pH  Min Conductivity  ...  Min BOD  \\\n",
       "0                     6.9     7.1     8.5            3270.0  ...      1.0   \n",
       "1                     6.8     6.9     8.4             597.0  ...      1.3   \n",
       "2                     7.2     5.7     7.0              50.0  ...      1.0   \n",
       "3                     6.0     6.6     7.8              54.0  ...      0.9   \n",
       "4                     8.0     7.2     7.9             222.0  ...      2.1   \n",
       "..                    ...     ...     ...               ...  ...      ...   \n",
       "334                   3.1     7.1     7.8            1312.0  ...      5.0   \n",
       "335                   3.0     7.0     8.1            1027.0  ...      5.8   \n",
       "336                   3.8     7.2     8.0             740.0  ...      4.0   \n",
       "337                   9.0     7.2     8.0             160.0  ...      1.0   \n",
       "338                   9.6     7.2     7.8             370.0  ...      1.0   \n",
       "\n",
       "     Max BOD  Min Nitrate N + Nitrite N  Max Nitrate N + Nitrite N  \\\n",
       "0        2.3                       0.65                       6.90   \n",
       "1        2.3                       1.16                       3.36   \n",
       "2       16.2                       0.10                       1.70   \n",
       "3        2.8                       0.10                       1.40   \n",
       "4        2.8                       0.00                       0.00   \n",
       "..       ...                        ...                        ...   \n",
       "334     16.0                       7.80                      52.00   \n",
       "335     20.0                       0.60                      37.00   \n",
       "336     19.0                       0.90                       8.60   \n",
       "337      1.6                       0.32                       0.37   \n",
       "338      2.0                       0.32                       0.36   \n",
       "\n",
       "     Min Fecal Coliform  Max Fecal Coliform  Min Total Coliform  \\\n",
       "0                   2.0                 2.0               800.0   \n",
       "1                  11.0                29.0               350.0   \n",
       "2                 300.0              2000.0               360.0   \n",
       "3                 300.0              1200.0               300.0   \n",
       "4                7000.0             26000.0             15000.0   \n",
       "..                  ...                 ...                 ...   \n",
       "334                 9.0                63.0               130.0   \n",
       "335                27.0                63.0               220.0   \n",
       "336                 2.0                57.0               220.0   \n",
       "337                70.0               170.0               210.0   \n",
       "338               140.0               350.0               350.0   \n",
       "\n",
       "     Max Total Coliform        lat        lon  \n",
       "0                1600.0  13.695333  80.059293  \n",
       "1                2400.0  17.603203  83.000845  \n",
       "2                6400.0  26.407384  93.255130  \n",
       "3                5300.0  26.407384  93.255130  \n",
       "4               38000.0  25.512541  86.088339  \n",
       "..                  ...        ...        ...  \n",
       "334               540.0  17.519687  78.446888  \n",
       "335               920.0  18.612131  79.368488  \n",
       "336               920.0  17.806692  78.174147  \n",
       "337               540.0  30.041738  79.089691  \n",
       "338               920.0  30.041738  79.089691  \n",
       "\n",
       "[339 rows x 21 columns]"
      ]
     },
     "execution_count": 79,
     "metadata": {},
     "output_type": "execute_result"
    }
   ],
   "source": [
    "\n",
    "#some entries in the pdf have - to represent a blank value so we must remove those as well\n",
    "bad_vals = df_unique.apply(lambda x:x==\"-\").any(axis=1)\n",
    "bad_idx = bad_vals.index[bad_vals]\n",
    "df_unique = df_unique.drop(bad_idx)\n",
    "\n",
    "#replace below detection level with 0\n",
    "df_unique = df_unique.replace(\"BDL\",0)\n",
    "\n",
    "df_unique.reset_index(inplace=True,drop=True)\n",
    "df_unique"
   ]
  },
  {
   "cell_type": "code",
   "execution_count": 80,
   "id": "891b7802",
   "metadata": {
    "execution": {
     "iopub.execute_input": "2023-05-28T18:34:49.143868Z",
     "iopub.status.busy": "2023-05-28T18:34:49.143470Z",
     "iopub.status.idle": "2023-05-28T18:34:49.220697Z",
     "shell.execute_reply": "2023-05-28T18:34:49.219602Z"
    },
    "papermill": {
     "duration": 0.093736,
     "end_time": "2023-05-28T18:34:49.222959",
     "exception": false,
     "start_time": "2023-05-28T18:34:49.129223",
     "status": "completed"
    },
    "tags": []
   },
   "outputs": [
    {
     "data": {
      "text/html": [
       "<div>\n",
       "<style scoped>\n",
       "    .dataframe tbody tr th:only-of-type {\n",
       "        vertical-align: middle;\n",
       "    }\n",
       "\n",
       "    .dataframe tbody tr th {\n",
       "        vertical-align: top;\n",
       "    }\n",
       "\n",
       "    .dataframe thead th {\n",
       "        text-align: right;\n",
       "    }\n",
       "</style>\n",
       "<table border=\"1\" class=\"dataframe\">\n",
       "  <thead>\n",
       "    <tr style=\"text-align: right;\">\n",
       "      <th></th>\n",
       "      <th>STN Code</th>\n",
       "      <th>State Name</th>\n",
       "      <th>Min Temperature</th>\n",
       "      <th>Max Temperature</th>\n",
       "      <th>Min Dissolved Oxygen</th>\n",
       "      <th>Max Dissolved Oxygen</th>\n",
       "      <th>Min pH</th>\n",
       "      <th>Max pH</th>\n",
       "      <th>Min Conductivity</th>\n",
       "      <th>Max Conductivity</th>\n",
       "      <th>Min BOD</th>\n",
       "      <th>Max BOD</th>\n",
       "      <th>Min Nitrate N + Nitrite N</th>\n",
       "      <th>Max Nitrate N + Nitrite N</th>\n",
       "      <th>Min Fecal Coliform</th>\n",
       "      <th>Max Fecal Coliform</th>\n",
       "      <th>Min Total Coliform</th>\n",
       "      <th>Max Total Coliform</th>\n",
       "      <th>lat</th>\n",
       "      <th>lon</th>\n",
       "    </tr>\n",
       "  </thead>\n",
       "  <tbody>\n",
       "    <tr>\n",
       "      <th>0</th>\n",
       "      <td>1790</td>\n",
       "      <td>ANDHRA \\nPRADESH</td>\n",
       "      <td>27.0</td>\n",
       "      <td>28.0</td>\n",
       "      <td>5.1</td>\n",
       "      <td>6.9</td>\n",
       "      <td>7.1</td>\n",
       "      <td>8.5</td>\n",
       "      <td>3270.0</td>\n",
       "      <td>156600.0</td>\n",
       "      <td>1.0</td>\n",
       "      <td>2.3</td>\n",
       "      <td>0.65</td>\n",
       "      <td>6.90</td>\n",
       "      <td>2.0</td>\n",
       "      <td>2.0</td>\n",
       "      <td>800.0</td>\n",
       "      <td>1600.0</td>\n",
       "      <td>13.695333</td>\n",
       "      <td>80.059293</td>\n",
       "    </tr>\n",
       "    <tr>\n",
       "      <th>1</th>\n",
       "      <td>2353</td>\n",
       "      <td>ANDHRA \\nPRADESH</td>\n",
       "      <td>24.0</td>\n",
       "      <td>28.0</td>\n",
       "      <td>5.9</td>\n",
       "      <td>6.8</td>\n",
       "      <td>6.9</td>\n",
       "      <td>8.4</td>\n",
       "      <td>597.0</td>\n",
       "      <td>1034.0</td>\n",
       "      <td>1.3</td>\n",
       "      <td>2.3</td>\n",
       "      <td>1.16</td>\n",
       "      <td>3.36</td>\n",
       "      <td>11.0</td>\n",
       "      <td>29.0</td>\n",
       "      <td>350.0</td>\n",
       "      <td>2400.0</td>\n",
       "      <td>17.603203</td>\n",
       "      <td>83.000845</td>\n",
       "    </tr>\n",
       "    <tr>\n",
       "      <th>2</th>\n",
       "      <td>2205</td>\n",
       "      <td>ASSAM</td>\n",
       "      <td>20.0</td>\n",
       "      <td>27.0</td>\n",
       "      <td>2.2</td>\n",
       "      <td>7.2</td>\n",
       "      <td>5.7</td>\n",
       "      <td>7.0</td>\n",
       "      <td>50.0</td>\n",
       "      <td>128.0</td>\n",
       "      <td>1.0</td>\n",
       "      <td>16.2</td>\n",
       "      <td>0.10</td>\n",
       "      <td>1.70</td>\n",
       "      <td>300.0</td>\n",
       "      <td>2000.0</td>\n",
       "      <td>360.0</td>\n",
       "      <td>6400.0</td>\n",
       "      <td>26.407384</td>\n",
       "      <td>93.255130</td>\n",
       "    </tr>\n",
       "    <tr>\n",
       "      <th>3</th>\n",
       "      <td>2206</td>\n",
       "      <td>ASSAM</td>\n",
       "      <td>22.0</td>\n",
       "      <td>36.0</td>\n",
       "      <td>5.1</td>\n",
       "      <td>6.0</td>\n",
       "      <td>6.6</td>\n",
       "      <td>7.8</td>\n",
       "      <td>54.0</td>\n",
       "      <td>153.0</td>\n",
       "      <td>0.9</td>\n",
       "      <td>2.8</td>\n",
       "      <td>0.10</td>\n",
       "      <td>1.40</td>\n",
       "      <td>300.0</td>\n",
       "      <td>1200.0</td>\n",
       "      <td>300.0</td>\n",
       "      <td>5300.0</td>\n",
       "      <td>26.407384</td>\n",
       "      <td>93.255130</td>\n",
       "    </tr>\n",
       "    <tr>\n",
       "      <th>4</th>\n",
       "      <td>2557</td>\n",
       "      <td>BIHAR</td>\n",
       "      <td>19.0</td>\n",
       "      <td>32.0</td>\n",
       "      <td>5.4</td>\n",
       "      <td>8.0</td>\n",
       "      <td>7.2</td>\n",
       "      <td>7.9</td>\n",
       "      <td>222.0</td>\n",
       "      <td>325.0</td>\n",
       "      <td>2.1</td>\n",
       "      <td>2.8</td>\n",
       "      <td>0.00</td>\n",
       "      <td>0.00</td>\n",
       "      <td>7000.0</td>\n",
       "      <td>26000.0</td>\n",
       "      <td>15000.0</td>\n",
       "      <td>38000.0</td>\n",
       "      <td>25.512541</td>\n",
       "      <td>86.088339</td>\n",
       "    </tr>\n",
       "    <tr>\n",
       "      <th>...</th>\n",
       "      <td>...</td>\n",
       "      <td>...</td>\n",
       "      <td>...</td>\n",
       "      <td>...</td>\n",
       "      <td>...</td>\n",
       "      <td>...</td>\n",
       "      <td>...</td>\n",
       "      <td>...</td>\n",
       "      <td>...</td>\n",
       "      <td>...</td>\n",
       "      <td>...</td>\n",
       "      <td>...</td>\n",
       "      <td>...</td>\n",
       "      <td>...</td>\n",
       "      <td>...</td>\n",
       "      <td>...</td>\n",
       "      <td>...</td>\n",
       "      <td>...</td>\n",
       "      <td>...</td>\n",
       "      <td>...</td>\n",
       "    </tr>\n",
       "    <tr>\n",
       "      <th>334</th>\n",
       "      <td>5050</td>\n",
       "      <td>TELANGANA</td>\n",
       "      <td>27.0</td>\n",
       "      <td>30.0</td>\n",
       "      <td>0.3</td>\n",
       "      <td>3.1</td>\n",
       "      <td>7.1</td>\n",
       "      <td>7.8</td>\n",
       "      <td>1312.0</td>\n",
       "      <td>1604.0</td>\n",
       "      <td>5.0</td>\n",
       "      <td>16.0</td>\n",
       "      <td>7.80</td>\n",
       "      <td>52.00</td>\n",
       "      <td>9.0</td>\n",
       "      <td>63.0</td>\n",
       "      <td>130.0</td>\n",
       "      <td>540.0</td>\n",
       "      <td>17.519687</td>\n",
       "      <td>78.446888</td>\n",
       "    </tr>\n",
       "    <tr>\n",
       "      <th>335</th>\n",
       "      <td>5042</td>\n",
       "      <td>TELANGANA</td>\n",
       "      <td>27.0</td>\n",
       "      <td>28.0</td>\n",
       "      <td>0.3</td>\n",
       "      <td>3.0</td>\n",
       "      <td>7.0</td>\n",
       "      <td>8.1</td>\n",
       "      <td>1027.0</td>\n",
       "      <td>2250.0</td>\n",
       "      <td>5.8</td>\n",
       "      <td>20.0</td>\n",
       "      <td>0.60</td>\n",
       "      <td>37.00</td>\n",
       "      <td>27.0</td>\n",
       "      <td>63.0</td>\n",
       "      <td>220.0</td>\n",
       "      <td>920.0</td>\n",
       "      <td>18.612131</td>\n",
       "      <td>79.368488</td>\n",
       "    </tr>\n",
       "    <tr>\n",
       "      <th>336</th>\n",
       "      <td>5031</td>\n",
       "      <td>TELANGANA</td>\n",
       "      <td>22.0</td>\n",
       "      <td>29.0</td>\n",
       "      <td>0.3</td>\n",
       "      <td>3.8</td>\n",
       "      <td>7.2</td>\n",
       "      <td>8.0</td>\n",
       "      <td>740.0</td>\n",
       "      <td>1352.0</td>\n",
       "      <td>4.0</td>\n",
       "      <td>19.0</td>\n",
       "      <td>0.90</td>\n",
       "      <td>8.60</td>\n",
       "      <td>2.0</td>\n",
       "      <td>57.0</td>\n",
       "      <td>220.0</td>\n",
       "      <td>920.0</td>\n",
       "      <td>17.806692</td>\n",
       "      <td>78.174147</td>\n",
       "    </tr>\n",
       "    <tr>\n",
       "      <th>337</th>\n",
       "      <td>3437</td>\n",
       "      <td>UTTARAKHAND</td>\n",
       "      <td>11.0</td>\n",
       "      <td>23.0</td>\n",
       "      <td>7.4</td>\n",
       "      <td>9.0</td>\n",
       "      <td>7.2</td>\n",
       "      <td>8.0</td>\n",
       "      <td>160.0</td>\n",
       "      <td>210.0</td>\n",
       "      <td>1.0</td>\n",
       "      <td>1.6</td>\n",
       "      <td>0.32</td>\n",
       "      <td>0.37</td>\n",
       "      <td>70.0</td>\n",
       "      <td>170.0</td>\n",
       "      <td>210.0</td>\n",
       "      <td>540.0</td>\n",
       "      <td>30.041738</td>\n",
       "      <td>79.089691</td>\n",
       "    </tr>\n",
       "    <tr>\n",
       "      <th>338</th>\n",
       "      <td>1362</td>\n",
       "      <td>UTTARAKHAND</td>\n",
       "      <td>9.0</td>\n",
       "      <td>22.0</td>\n",
       "      <td>7.6</td>\n",
       "      <td>9.6</td>\n",
       "      <td>7.2</td>\n",
       "      <td>7.8</td>\n",
       "      <td>370.0</td>\n",
       "      <td>440.0</td>\n",
       "      <td>1.0</td>\n",
       "      <td>2.0</td>\n",
       "      <td>0.32</td>\n",
       "      <td>0.36</td>\n",
       "      <td>140.0</td>\n",
       "      <td>350.0</td>\n",
       "      <td>350.0</td>\n",
       "      <td>920.0</td>\n",
       "      <td>30.041738</td>\n",
       "      <td>79.089691</td>\n",
       "    </tr>\n",
       "  </tbody>\n",
       "</table>\n",
       "<p>339 rows × 20 columns</p>\n",
       "</div>"
      ],
      "text/plain": [
       "     STN Code        State Name  Min Temperature  Max Temperature  \\\n",
       "0        1790  ANDHRA \\nPRADESH             27.0             28.0   \n",
       "1        2353  ANDHRA \\nPRADESH             24.0             28.0   \n",
       "2        2205             ASSAM             20.0             27.0   \n",
       "3        2206             ASSAM             22.0             36.0   \n",
       "4        2557             BIHAR             19.0             32.0   \n",
       "..        ...               ...              ...              ...   \n",
       "334      5050         TELANGANA             27.0             30.0   \n",
       "335      5042         TELANGANA             27.0             28.0   \n",
       "336      5031         TELANGANA             22.0             29.0   \n",
       "337      3437       UTTARAKHAND             11.0             23.0   \n",
       "338      1362       UTTARAKHAND              9.0             22.0   \n",
       "\n",
       "     Min Dissolved Oxygen  Max Dissolved Oxygen  Min pH  Max pH  \\\n",
       "0                     5.1                   6.9     7.1     8.5   \n",
       "1                     5.9                   6.8     6.9     8.4   \n",
       "2                     2.2                   7.2     5.7     7.0   \n",
       "3                     5.1                   6.0     6.6     7.8   \n",
       "4                     5.4                   8.0     7.2     7.9   \n",
       "..                    ...                   ...     ...     ...   \n",
       "334                   0.3                   3.1     7.1     7.8   \n",
       "335                   0.3                   3.0     7.0     8.1   \n",
       "336                   0.3                   3.8     7.2     8.0   \n",
       "337                   7.4                   9.0     7.2     8.0   \n",
       "338                   7.6                   9.6     7.2     7.8   \n",
       "\n",
       "     Min Conductivity  Max Conductivity  Min BOD  Max BOD  \\\n",
       "0              3270.0          156600.0      1.0      2.3   \n",
       "1               597.0            1034.0      1.3      2.3   \n",
       "2                50.0             128.0      1.0     16.2   \n",
       "3                54.0             153.0      0.9      2.8   \n",
       "4               222.0             325.0      2.1      2.8   \n",
       "..                ...               ...      ...      ...   \n",
       "334            1312.0            1604.0      5.0     16.0   \n",
       "335            1027.0            2250.0      5.8     20.0   \n",
       "336             740.0            1352.0      4.0     19.0   \n",
       "337             160.0             210.0      1.0      1.6   \n",
       "338             370.0             440.0      1.0      2.0   \n",
       "\n",
       "     Min Nitrate N + Nitrite N  Max Nitrate N + Nitrite N  Min Fecal Coliform  \\\n",
       "0                         0.65                       6.90                 2.0   \n",
       "1                         1.16                       3.36                11.0   \n",
       "2                         0.10                       1.70               300.0   \n",
       "3                         0.10                       1.40               300.0   \n",
       "4                         0.00                       0.00              7000.0   \n",
       "..                         ...                        ...                 ...   \n",
       "334                       7.80                      52.00                 9.0   \n",
       "335                       0.60                      37.00                27.0   \n",
       "336                       0.90                       8.60                 2.0   \n",
       "337                       0.32                       0.37                70.0   \n",
       "338                       0.32                       0.36               140.0   \n",
       "\n",
       "     Max Fecal Coliform  Min Total Coliform  Max Total Coliform        lat  \\\n",
       "0                   2.0               800.0              1600.0  13.695333   \n",
       "1                  29.0               350.0              2400.0  17.603203   \n",
       "2                2000.0               360.0              6400.0  26.407384   \n",
       "3                1200.0               300.0              5300.0  26.407384   \n",
       "4               26000.0             15000.0             38000.0  25.512541   \n",
       "..                  ...                 ...                 ...        ...   \n",
       "334                63.0               130.0               540.0  17.519687   \n",
       "335                63.0               220.0               920.0  18.612131   \n",
       "336                57.0               220.0               920.0  17.806692   \n",
       "337               170.0               210.0               540.0  30.041738   \n",
       "338               350.0               350.0               920.0  30.041738   \n",
       "\n",
       "           lon  \n",
       "0    80.059293  \n",
       "1    83.000845  \n",
       "2    93.255130  \n",
       "3    93.255130  \n",
       "4    86.088339  \n",
       "..         ...  \n",
       "334  78.446888  \n",
       "335  79.368488  \n",
       "336  78.174147  \n",
       "337  79.089691  \n",
       "338  79.089691  \n",
       "\n",
       "[339 rows x 20 columns]"
      ]
     },
     "execution_count": 80,
     "metadata": {},
     "output_type": "execute_result"
    }
   ],
   "source": [
    "#Required Columns\n",
    "L = [\n",
    "  \"Min Temperature\",\"Max Temperature\",\"Min Dissolved Oxygen\",\"Max Dissolved Oxygen\",\n",
    "  \"Min pH\",\"Max pH\",\"Min Conductivity\",\"Max Conductivity\",\"Min BOD\",\"Max BOD\",\n",
    "  \"Min Nitrate N + Nitrite N\",\"Max Nitrate N + Nitrite N\",\"Min Fecal Coliform\",\n",
    "  \"Max Fecal Coliform\",\"Min Total Coliform\",\"Max Total Coliform\",\"lat\",\"lon\"\n",
    "]\n",
    "df_unique[L] = df_unique[L].apply(pd.to_numeric)\n",
    "\n",
    "#dropping redundant columns\n",
    "df_unique = df_unique.drop(columns=[\"Name of Monitoring Location\"])\n",
    "df_unique = df_unique.astype({\"STN Code\":int})\n",
    "df_unique"
   ]
  },
  {
   "cell_type": "code",
   "execution_count": 81,
   "id": "662cfb94",
   "metadata": {},
   "outputs": [
    {
     "name": "stdout",
     "output_type": "stream",
     "text": [
      "State Name\n",
      "TELANGANA             82\n",
      "KARNATAKA             77\n",
      "MADHYA PRADESH        22\n",
      "GUJARAT               20\n",
      "RAJASTHAN             19\n",
      "ASSAM                 17\n",
      "KERALA                16\n",
      "WEST BENGAL           13\n",
      "GOA                    9\n",
      "TRIPURA                8\n",
      "TAMIL NADU             8\n",
      "ODISHA                 7\n",
      "MEGHALAYA              7\n",
      "HIMACHAL \\nPRADESH     5\n",
      "MANIPUR                5\n",
      "PUDUCHERRY             3\n",
      "ANDHRA \\nPRADESH       3\n",
      "BIHAR                  3\n",
      "DELHI                  3\n",
      "PUNJAB                 3\n",
      "HARYANA                2\n",
      "UTTAR PRADESH          2\n",
      "UTTARAKHAND            2\n",
      "CHANDIGARH             1\n",
      "CHHATTISGARH           1\n",
      "MADHYA \\nPRADESH       1\n",
      "Name: count, dtype: int64\n"
     ]
    }
   ],
   "source": [
    "state_counts = df_unique[\"State Name\"].value_counts()\n",
    "print(state_counts)\n"
   ]
  },
  {
   "cell_type": "markdown",
   "id": "c00dfa3f",
   "metadata": {
    "papermill": {
     "duration": 0.013413,
     "end_time": "2023-05-28T18:34:49.290422",
     "exception": false,
     "start_time": "2023-05-28T18:34:49.277009",
     "status": "completed"
    },
    "tags": []
   },
   "source": [
    "# Calculating WQI"
   ]
  },
  {
   "cell_type": "markdown",
   "id": "e44c7812",
   "metadata": {
    "papermill": {
     "duration": 0.013278,
     "end_time": "2023-05-28T18:34:49.317392",
     "exception": false,
     "start_time": "2023-05-28T18:34:49.304114",
     "status": "completed"
    },
    "tags": []
   },
   "source": [
    "To calculate water quality index, we can use the Weighted Arithmetic Mean method\n",
    "\n",
    "$$ WQI = \\frac{\\sum q_iw_i}{\\sum w_i} $$\n",
    "\n",
    "Here, $w_i$ represents unit weight of ith parameter towards overall water quality and $q_i$ is the quality estimate of the ith parameter. They can be calculated as follows\n",
    "\n",
    "$$ q_i = \\frac{V_i - V_{ideal} }{S_i - V_{ideal}} * 100 $$\n",
    "\n",
    "$$ w_i = \\frac{K}{S_i} $$\n",
    "\n"
   ]
  },
  {
   "cell_type": "code",
   "execution_count": 82,
   "id": "dcb0a906",
   "metadata": {
    "execution": {
     "iopub.execute_input": "2023-05-28T18:34:49.346342Z",
     "iopub.status.busy": "2023-05-28T18:34:49.345890Z",
     "iopub.status.idle": "2023-05-28T18:34:49.354147Z",
     "shell.execute_reply": "2023-05-28T18:34:49.353056Z"
    },
    "papermill": {
     "duration": 0.025617,
     "end_time": "2023-05-28T18:34:49.356641",
     "exception": false,
     "start_time": "2023-05-28T18:34:49.331024",
     "status": "completed"
    },
    "tags": []
   },
   "outputs": [
    {
     "name": "stdout",
     "output_type": "stream",
     "text": [
      "[0.22130294 0.2603564  0.00221303 0.44260588 0.04917843 0.02213029\n",
      " 0.00221303]\n"
     ]
    }
   ],
   "source": [
    "stv = np.array([10,8.5,1000,5,45,100,1000])\n",
    "K = 1/np.sum(stv)\n",
    "w = [K/x for x in stv]\n",
    "w_n = np.array([x/sum(w) for x in w])\n",
    "print(w_n)"
   ]
  },
  {
   "cell_type": "markdown",
   "id": "aef081f2",
   "metadata": {
    "papermill": {
     "duration": 0.013635,
     "end_time": "2023-05-28T18:34:49.384008",
     "exception": false,
     "start_time": "2023-05-28T18:34:49.370373",
     "status": "completed"
    },
    "tags": []
   },
   "source": [
    "Using the table, we can calculate the unit weights,\n",
    "\n",
    "| Parameter | Unit weights ($w_i$) |\n",
    "|:-:|:-:|\n",
    "| Dissolved Oxygen (mg/L) | 0.2213 |\n",
    "| pH | 0.2603 |\n",
    "| Conductivity (µS/cm) |  0.0022 |\n",
    "| Biological Oxygen Demand (mg/L) | 0.4426 |\n",
    "| Nitrate (mg/L) | 0.04917 |\n",
    "| Fecal Coliform (per 100 mL) | 0.02213 |\n",
    "| Total Coliform (per 100 mL) | 0.00221 |\n",
    "\n",
    "Ideal Values in pure water are given by,\n",
    "\n",
    "| Parameter | Ideal Value ($V_{ideal}$) |\n",
    "|:-:|:-:|\n",
    "| Dissolved Oxygen (mg/L) | 14.6 |\n",
    "| pH | 7 |\n",
    "| Conductivity (µS/cm) | 0 |\n",
    "| Biological Oxygen Demand (mg/L) | 0 |\n",
    "| Nitrate (mg/L) | 0 |\n",
    "| Fecal Coliform (per 100 mL) | 0 |\n",
    "| Total Coliform (per 100 mL) | 0 |"
   ]
  },
  {
   "cell_type": "code",
   "execution_count": 84,
   "id": "75ed655c",
   "metadata": {
    "execution": {
     "iopub.execute_input": "2023-05-28T18:34:49.413992Z",
     "iopub.status.busy": "2023-05-28T18:34:49.413613Z",
     "iopub.status.idle": "2023-05-28T18:34:49.423201Z",
     "shell.execute_reply": "2023-05-28T18:34:49.422094Z"
    },
    "papermill": {
     "duration": 0.027592,
     "end_time": "2023-05-28T18:34:49.425889",
     "exception": false,
     "start_time": "2023-05-28T18:34:49.398297",
     "status": "completed"
    },
    "tags": []
   },
   "outputs": [
    {
     "data": {
      "text/plain": [
       "np.float64(93.34277805867758)"
      ]
     },
     "execution_count": 84,
     "metadata": {},
     "output_type": "execute_result"
    }
   ],
   "source": [
    "idv = np.array([14.6,7,0,0,0,0,0])\n",
    "diff = stv-idv\n",
    "\n",
    "def calculate_wqi(row):\n",
    "    q = 100*(row - idv)/diff\n",
    "    return np.dot(q,w_n)\n",
    "\n",
    "example_row = np.array([6.8,7.8,1179,4.6,3.56,23,240])\n",
    "calculate_wqi(example_row)"
   ]
  },
  {
   "cell_type": "markdown",
   "id": "360446ad",
   "metadata": {
    "papermill": {
     "duration": 0.013691,
     "end_time": "2023-05-28T18:34:49.454031",
     "exception": false,
     "start_time": "2023-05-28T18:34:49.440340",
     "status": "completed"
    },
    "tags": []
   },
   "source": [
    "# Interpolating Average Statistics"
   ]
  },
  {
   "cell_type": "markdown",
   "id": "a6e739d2",
   "metadata": {
    "papermill": {
     "duration": 0.013445,
     "end_time": "2023-05-28T18:34:49.481607",
     "exception": false,
     "start_time": "2023-05-28T18:34:49.468162",
     "status": "completed"
    },
    "tags": []
   },
   "source": [
    "Each of the columns of the data provided has the min and max values for each parameter in a lake.\n",
    "In order to calculate the WQI for a lake , we need to estimate the average value for each parameter from the min and max values.\n",
    "\n",
    "Assuming that these features are roughly normally distributed, we can then say that the average(median) value for the parameter would be midway between the min and the max value. For example, when considering pH to be distributed normally over all the samples, we could say :\n",
    "\n",
    "$$ pH_{average} \\approx \\frac{(pH_{min} + pH_{max})}{2} $$\n",
    "\n",
    "For features like pH, Dissolved Oxygen, Conductivity and Nitrates, this approximation does give close results to the actual mean in other lakes where annual data has been recorded."
   ]
  },
  {
   "cell_type": "code",
   "execution_count": 85,
   "id": "91f18b42",
   "metadata": {
    "execution": {
     "iopub.execute_input": "2023-05-28T18:34:49.511371Z",
     "iopub.status.busy": "2023-05-28T18:34:49.510946Z",
     "iopub.status.idle": "2023-05-28T18:34:49.544147Z",
     "shell.execute_reply": "2023-05-28T18:34:49.543023Z"
    },
    "papermill": {
     "duration": 0.05089,
     "end_time": "2023-05-28T18:34:49.546413",
     "exception": false,
     "start_time": "2023-05-28T18:34:49.495523",
     "status": "completed"
    },
    "tags": []
   },
   "outputs": [
    {
     "data": {
      "text/html": [
       "<div>\n",
       "<style scoped>\n",
       "    .dataframe tbody tr th:only-of-type {\n",
       "        vertical-align: middle;\n",
       "    }\n",
       "\n",
       "    .dataframe tbody tr th {\n",
       "        vertical-align: top;\n",
       "    }\n",
       "\n",
       "    .dataframe thead th {\n",
       "        text-align: right;\n",
       "    }\n",
       "</style>\n",
       "<table border=\"1\" class=\"dataframe\">\n",
       "  <thead>\n",
       "    <tr style=\"text-align: right;\">\n",
       "      <th></th>\n",
       "      <th>Dissolved Oxygen</th>\n",
       "      <th>pH</th>\n",
       "      <th>Conductivity</th>\n",
       "      <th>BOD</th>\n",
       "      <th>Nitrate N + Nitrite N</th>\n",
       "      <th>Fecal Coliform</th>\n",
       "      <th>Total Coliform</th>\n",
       "    </tr>\n",
       "  </thead>\n",
       "  <tbody>\n",
       "    <tr>\n",
       "      <th>0</th>\n",
       "      <td>6.00</td>\n",
       "      <td>7.80</td>\n",
       "      <td>79935.0</td>\n",
       "      <td>1.65</td>\n",
       "      <td>3.775</td>\n",
       "      <td>2.0</td>\n",
       "      <td>1200.0</td>\n",
       "    </tr>\n",
       "    <tr>\n",
       "      <th>1</th>\n",
       "      <td>6.35</td>\n",
       "      <td>7.65</td>\n",
       "      <td>815.5</td>\n",
       "      <td>1.80</td>\n",
       "      <td>2.260</td>\n",
       "      <td>20.0</td>\n",
       "      <td>1375.0</td>\n",
       "    </tr>\n",
       "    <tr>\n",
       "      <th>2</th>\n",
       "      <td>4.70</td>\n",
       "      <td>6.35</td>\n",
       "      <td>89.0</td>\n",
       "      <td>8.60</td>\n",
       "      <td>0.900</td>\n",
       "      <td>1150.0</td>\n",
       "      <td>3380.0</td>\n",
       "    </tr>\n",
       "    <tr>\n",
       "      <th>3</th>\n",
       "      <td>5.55</td>\n",
       "      <td>7.20</td>\n",
       "      <td>103.5</td>\n",
       "      <td>1.85</td>\n",
       "      <td>0.750</td>\n",
       "      <td>750.0</td>\n",
       "      <td>2800.0</td>\n",
       "    </tr>\n",
       "    <tr>\n",
       "      <th>4</th>\n",
       "      <td>6.70</td>\n",
       "      <td>7.55</td>\n",
       "      <td>273.5</td>\n",
       "      <td>2.45</td>\n",
       "      <td>0.000</td>\n",
       "      <td>16500.0</td>\n",
       "      <td>26500.0</td>\n",
       "    </tr>\n",
       "    <tr>\n",
       "      <th>...</th>\n",
       "      <td>...</td>\n",
       "      <td>...</td>\n",
       "      <td>...</td>\n",
       "      <td>...</td>\n",
       "      <td>...</td>\n",
       "      <td>...</td>\n",
       "      <td>...</td>\n",
       "    </tr>\n",
       "    <tr>\n",
       "      <th>334</th>\n",
       "      <td>1.70</td>\n",
       "      <td>7.45</td>\n",
       "      <td>1458.0</td>\n",
       "      <td>10.50</td>\n",
       "      <td>29.900</td>\n",
       "      <td>36.0</td>\n",
       "      <td>335.0</td>\n",
       "    </tr>\n",
       "    <tr>\n",
       "      <th>335</th>\n",
       "      <td>1.65</td>\n",
       "      <td>7.55</td>\n",
       "      <td>1638.5</td>\n",
       "      <td>12.90</td>\n",
       "      <td>18.800</td>\n",
       "      <td>45.0</td>\n",
       "      <td>570.0</td>\n",
       "    </tr>\n",
       "    <tr>\n",
       "      <th>336</th>\n",
       "      <td>2.05</td>\n",
       "      <td>7.60</td>\n",
       "      <td>1046.0</td>\n",
       "      <td>11.50</td>\n",
       "      <td>4.750</td>\n",
       "      <td>29.5</td>\n",
       "      <td>570.0</td>\n",
       "    </tr>\n",
       "    <tr>\n",
       "      <th>337</th>\n",
       "      <td>8.20</td>\n",
       "      <td>7.60</td>\n",
       "      <td>185.0</td>\n",
       "      <td>1.30</td>\n",
       "      <td>0.345</td>\n",
       "      <td>120.0</td>\n",
       "      <td>375.0</td>\n",
       "    </tr>\n",
       "    <tr>\n",
       "      <th>338</th>\n",
       "      <td>8.60</td>\n",
       "      <td>7.50</td>\n",
       "      <td>405.0</td>\n",
       "      <td>1.50</td>\n",
       "      <td>0.340</td>\n",
       "      <td>245.0</td>\n",
       "      <td>635.0</td>\n",
       "    </tr>\n",
       "  </tbody>\n",
       "</table>\n",
       "<p>339 rows × 7 columns</p>\n",
       "</div>"
      ],
      "text/plain": [
       "     Dissolved Oxygen    pH  Conductivity    BOD  Nitrate N + Nitrite N  \\\n",
       "0                6.00  7.80       79935.0   1.65                  3.775   \n",
       "1                6.35  7.65         815.5   1.80                  2.260   \n",
       "2                4.70  6.35          89.0   8.60                  0.900   \n",
       "3                5.55  7.20         103.5   1.85                  0.750   \n",
       "4                6.70  7.55         273.5   2.45                  0.000   \n",
       "..                ...   ...           ...    ...                    ...   \n",
       "334              1.70  7.45        1458.0  10.50                 29.900   \n",
       "335              1.65  7.55        1638.5  12.90                 18.800   \n",
       "336              2.05  7.60        1046.0  11.50                  4.750   \n",
       "337              8.20  7.60         185.0   1.30                  0.345   \n",
       "338              8.60  7.50         405.0   1.50                  0.340   \n",
       "\n",
       "     Fecal Coliform  Total Coliform  \n",
       "0               2.0          1200.0  \n",
       "1              20.0          1375.0  \n",
       "2            1150.0          3380.0  \n",
       "3             750.0          2800.0  \n",
       "4           16500.0         26500.0  \n",
       "..              ...             ...  \n",
       "334            36.0           335.0  \n",
       "335            45.0           570.0  \n",
       "336            29.5           570.0  \n",
       "337           120.0           375.0  \n",
       "338           245.0           635.0  \n",
       "\n",
       "[339 rows x 7 columns]"
      ]
     },
     "execution_count": 85,
     "metadata": {},
     "output_type": "execute_result"
    }
   ],
   "source": [
    "def avg(col1,col2):\n",
    "    return (col1.to_numpy() + col2.to_numpy())/2\n",
    "\n",
    "pd.set_option('mode.chained_assignment',None)\n",
    "\n",
    "df_a = pd.DataFrame()\n",
    "df_a[\"Dissolved Oxygen\"] = avg(df_unique[\"Min Dissolved Oxygen\"],df_unique[\"Max Dissolved Oxygen\"])\n",
    "df_a[\"pH\"] = avg(df_unique[\"Min pH\"],df_unique[\"Max pH\"])\n",
    "df_a[\"Conductivity\"] = avg(df_unique[\"Min Conductivity\"],df_unique[\"Max Conductivity\"])\n",
    "df_a[\"BOD\"] = avg(df_unique[\"Min BOD\"],df_unique[\"Max BOD\"])\n",
    "df_a[\"Nitrate N + Nitrite N\"] = avg(df_unique[\"Min Nitrate N + Nitrite N\"],df_unique[\"Max Nitrate N + Nitrite N\"])\n",
    "df_a[\"Fecal Coliform\"] = avg(df_unique[\"Min Fecal Coliform\"],df_unique[\"Max Fecal Coliform\"])\n",
    "df_a[\"Total Coliform\"] = avg(df_unique[\"Min Total Coliform\"],df_unique[\"Max Total Coliform\"])\n",
    "df_a"
   ]
  },
  {
   "cell_type": "markdown",
   "id": "34ff5e12",
   "metadata": {
    "papermill": {
     "duration": 0.013761,
     "end_time": "2023-05-28T18:34:49.574402",
     "exception": false,
     "start_time": "2023-05-28T18:34:49.560641",
     "status": "completed"
    },
    "tags": []
   },
   "source": [
    "# Classification of water bodies"
   ]
  },
  {
   "cell_type": "code",
   "execution_count": 86,
   "id": "c8fd3a69",
   "metadata": {
    "execution": {
     "iopub.execute_input": "2023-05-28T18:34:49.604592Z",
     "iopub.status.busy": "2023-05-28T18:34:49.604159Z",
     "iopub.status.idle": "2023-05-28T18:34:49.950245Z",
     "shell.execute_reply": "2023-05-28T18:34:49.949174Z"
    },
    "papermill": {
     "duration": 0.364134,
     "end_time": "2023-05-28T18:34:49.952555",
     "exception": false,
     "start_time": "2023-05-28T18:34:49.588421",
     "status": "completed"
    },
    "tags": []
   },
   "outputs": [
    {
     "data": {
      "text/html": [
       "<div>\n",
       "<style scoped>\n",
       "    .dataframe tbody tr th:only-of-type {\n",
       "        vertical-align: middle;\n",
       "    }\n",
       "\n",
       "    .dataframe tbody tr th {\n",
       "        vertical-align: top;\n",
       "    }\n",
       "\n",
       "    .dataframe thead th {\n",
       "        text-align: right;\n",
       "    }\n",
       "</style>\n",
       "<table border=\"1\" class=\"dataframe\">\n",
       "  <thead>\n",
       "    <tr style=\"text-align: right;\">\n",
       "      <th></th>\n",
       "      <th>STN Code</th>\n",
       "      <th>Dissolved Oxygen</th>\n",
       "      <th>pH</th>\n",
       "      <th>Conductivity</th>\n",
       "      <th>BOD</th>\n",
       "      <th>Nitrate N + Nitrite N</th>\n",
       "      <th>Fecal Coliform</th>\n",
       "      <th>Total Coliform</th>\n",
       "      <th>WQI</th>\n",
       "    </tr>\n",
       "  </thead>\n",
       "  <tbody>\n",
       "    <tr>\n",
       "      <th>0</th>\n",
       "      <td>1790</td>\n",
       "      <td>6.00</td>\n",
       "      <td>7.80</td>\n",
       "      <td>79935.0</td>\n",
       "      <td>1.65</td>\n",
       "      <td>3.775</td>\n",
       "      <td>2.0</td>\n",
       "      <td>1200.0</td>\n",
       "      <td>88.277923</td>\n",
       "    </tr>\n",
       "    <tr>\n",
       "      <th>1</th>\n",
       "      <td>2353</td>\n",
       "      <td>6.35</td>\n",
       "      <td>7.65</td>\n",
       "      <td>815.5</td>\n",
       "      <td>1.80</td>\n",
       "      <td>2.260</td>\n",
       "      <td>20.0</td>\n",
       "      <td>1375.0</td>\n",
       "      <td>68.080478</td>\n",
       "    </tr>\n",
       "    <tr>\n",
       "      <th>2</th>\n",
       "      <td>2205</td>\n",
       "      <td>4.70</td>\n",
       "      <td>6.35</td>\n",
       "      <td>89.0</td>\n",
       "      <td>8.60</td>\n",
       "      <td>0.900</td>\n",
       "      <td>1150.0</td>\n",
       "      <td>3380.0</td>\n",
       "      <td>138.790236</td>\n",
       "    </tr>\n",
       "    <tr>\n",
       "      <th>3</th>\n",
       "      <td>2206</td>\n",
       "      <td>5.55</td>\n",
       "      <td>7.20</td>\n",
       "      <td>103.5</td>\n",
       "      <td>1.85</td>\n",
       "      <td>0.750</td>\n",
       "      <td>750.0</td>\n",
       "      <td>2800.0</td>\n",
       "      <td>80.709022</td>\n",
       "    </tr>\n",
       "    <tr>\n",
       "      <th>4</th>\n",
       "      <td>2557</td>\n",
       "      <td>6.70</td>\n",
       "      <td>7.55</td>\n",
       "      <td>273.5</td>\n",
       "      <td>2.45</td>\n",
       "      <td>0.000</td>\n",
       "      <td>16500.0</td>\n",
       "      <td>26500.0</td>\n",
       "      <td>440.315367</td>\n",
       "    </tr>\n",
       "    <tr>\n",
       "      <th>...</th>\n",
       "      <td>...</td>\n",
       "      <td>...</td>\n",
       "      <td>...</td>\n",
       "      <td>...</td>\n",
       "      <td>...</td>\n",
       "      <td>...</td>\n",
       "      <td>...</td>\n",
       "      <td>...</td>\n",
       "      <td>...</td>\n",
       "    </tr>\n",
       "    <tr>\n",
       "      <th>334</th>\n",
       "      <td>5050</td>\n",
       "      <td>1.70</td>\n",
       "      <td>7.45</td>\n",
       "      <td>1458.0</td>\n",
       "      <td>10.50</td>\n",
       "      <td>29.900</td>\n",
       "      <td>36.0</td>\n",
       "      <td>335.0</td>\n",
       "      <td>167.280088</td>\n",
       "    </tr>\n",
       "    <tr>\n",
       "      <th>335</th>\n",
       "      <td>5042</td>\n",
       "      <td>1.65</td>\n",
       "      <td>7.55</td>\n",
       "      <td>1638.5</td>\n",
       "      <td>12.90</td>\n",
       "      <td>18.800</td>\n",
       "      <td>45.0</td>\n",
       "      <td>570.0</td>\n",
       "      <td>189.579483</td>\n",
       "    </tr>\n",
       "    <tr>\n",
       "      <th>336</th>\n",
       "      <td>5031</td>\n",
       "      <td>2.05</td>\n",
       "      <td>7.60</td>\n",
       "      <td>1046.0</td>\n",
       "      <td>11.50</td>\n",
       "      <td>4.750</td>\n",
       "      <td>29.5</td>\n",
       "      <td>570.0</td>\n",
       "      <td>174.120398</td>\n",
       "    </tr>\n",
       "    <tr>\n",
       "      <th>337</th>\n",
       "      <td>3437</td>\n",
       "      <td>8.20</td>\n",
       "      <td>7.60</td>\n",
       "      <td>185.0</td>\n",
       "      <td>1.30</td>\n",
       "      <td>0.345</td>\n",
       "      <td>120.0</td>\n",
       "      <td>375.0</td>\n",
       "      <td>55.529251</td>\n",
       "    </tr>\n",
       "    <tr>\n",
       "      <th>338</th>\n",
       "      <td>1362</td>\n",
       "      <td>8.60</td>\n",
       "      <td>7.50</td>\n",
       "      <td>405.0</td>\n",
       "      <td>1.50</td>\n",
       "      <td>0.340</td>\n",
       "      <td>245.0</td>\n",
       "      <td>635.0</td>\n",
       "      <td>56.511558</td>\n",
       "    </tr>\n",
       "  </tbody>\n",
       "</table>\n",
       "<p>337 rows × 9 columns</p>\n",
       "</div>"
      ],
      "text/plain": [
       "     STN Code  Dissolved Oxygen    pH  Conductivity    BOD  \\\n",
       "0        1790              6.00  7.80       79935.0   1.65   \n",
       "1        2353              6.35  7.65         815.5   1.80   \n",
       "2        2205              4.70  6.35          89.0   8.60   \n",
       "3        2206              5.55  7.20         103.5   1.85   \n",
       "4        2557              6.70  7.55         273.5   2.45   \n",
       "..        ...               ...   ...           ...    ...   \n",
       "334      5050              1.70  7.45        1458.0  10.50   \n",
       "335      5042              1.65  7.55        1638.5  12.90   \n",
       "336      5031              2.05  7.60        1046.0  11.50   \n",
       "337      3437              8.20  7.60         185.0   1.30   \n",
       "338      1362              8.60  7.50         405.0   1.50   \n",
       "\n",
       "     Nitrate N + Nitrite N  Fecal Coliform  Total Coliform         WQI  \n",
       "0                    3.775             2.0          1200.0   88.277923  \n",
       "1                    2.260            20.0          1375.0   68.080478  \n",
       "2                    0.900          1150.0          3380.0  138.790236  \n",
       "3                    0.750           750.0          2800.0   80.709022  \n",
       "4                    0.000         16500.0         26500.0  440.315367  \n",
       "..                     ...             ...             ...         ...  \n",
       "334                 29.900            36.0           335.0  167.280088  \n",
       "335                 18.800            45.0           570.0  189.579483  \n",
       "336                  4.750            29.5           570.0  174.120398  \n",
       "337                  0.345           120.0           375.0   55.529251  \n",
       "338                  0.340           245.0           635.0   56.511558  \n",
       "\n",
       "[337 rows x 9 columns]"
      ]
     },
     "execution_count": 86,
     "metadata": {},
     "output_type": "execute_result"
    }
   ],
   "source": [
    "wqi = df_a.apply(calculate_wqi,axis=1)\n",
    "df_a[\"WQI\"] = wqi\n",
    "df_a = df_a[df_a[\"WQI\"]>=0]\n",
    "df_a.dropna()\n",
    "df_a.insert(0,\"STN Code\",df_unique[\"STN Code\"])\n",
    "df_a"
   ]
  },
  {
   "cell_type": "code",
   "execution_count": 87,
   "id": "4500ae74",
   "metadata": {
    "execution": {
     "iopub.execute_input": "2023-05-28T18:34:49.983531Z",
     "iopub.status.busy": "2023-05-28T18:34:49.983103Z",
     "iopub.status.idle": "2023-05-28T18:34:49.997906Z",
     "shell.execute_reply": "2023-05-28T18:34:49.997019Z"
    },
    "papermill": {
     "duration": 0.032912,
     "end_time": "2023-05-28T18:34:50.000010",
     "exception": false,
     "start_time": "2023-05-28T18:34:49.967098",
     "status": "completed"
    },
    "tags": []
   },
   "outputs": [
    {
     "name": "stdout",
     "output_type": "stream",
     "text": [
      "[5, 110, 84, 32, 106]\n"
     ]
    }
   ],
   "source": [
    "counts = [0]*5\n",
    "counts[0] = len(df_a[df_a[\"WQI\"]<50])\n",
    "counts[1] = len(df_a[(df_a[\"WQI\"]>=50) & (df_a[\"WQI\"]<100)])\n",
    "counts[2] = len(df_a[(df_a[\"WQI\"]>=100) & (df_a[\"WQI\"]<200)])\n",
    "counts[3] = len(df_a[(df_a[\"WQI\"]>=200) & (df_a[\"WQI\"]<300)])\n",
    "counts[4] = len(df_a[df_a[\"WQI\"]>=300])\n",
    "print(counts)"
   ]
  },
  {
   "cell_type": "markdown",
   "id": "7af93415",
   "metadata": {
    "papermill": {
     "duration": 0.014115,
     "end_time": "2023-05-28T18:34:50.028742",
     "exception": false,
     "start_time": "2023-05-28T18:34:50.014627",
     "status": "completed"
    },
    "tags": []
   },
   "source": [
    "| WQI | Classification | Frequency |\n",
    "| :-: | :-: | :-: |\n",
    "| < 50 | Excellent | 31 |\n",
    "| 50 - 100 | Good | 461 |\n",
    "| 100 - 200 | Poor | 248 |\n",
    "| 200 - 300 | Very Poor | 102 |\n",
    "| > 300 | Unsuitable for Drinking | 248 |"
   ]
  },
  {
   "cell_type": "markdown",
   "id": "360868b6",
   "metadata": {
    "papermill": {
     "duration": 0.014185,
     "end_time": "2023-05-28T18:34:50.057373",
     "exception": false,
     "start_time": "2023-05-28T18:34:50.043188",
     "status": "completed"
    },
    "tags": []
   },
   "source": [
    "# Boxplots"
   ]
  },
  {
   "cell_type": "code",
   "execution_count": 88,
   "id": "7e703b57",
   "metadata": {
    "execution": {
     "iopub.execute_input": "2023-05-28T18:34:50.089085Z",
     "iopub.status.busy": "2023-05-28T18:34:50.087940Z",
     "iopub.status.idle": "2023-05-28T18:34:51.837964Z",
     "shell.execute_reply": "2023-05-28T18:34:51.836834Z"
    },
    "papermill": {
     "duration": 1.768316,
     "end_time": "2023-05-28T18:34:51.840387",
     "exception": false,
     "start_time": "2023-05-28T18:34:50.072071",
     "status": "completed"
    },
    "tags": []
   },
   "outputs": [
    {
     "data": {
      "image/png": "[encoded data removed]",
      "text/plain": [
       "<Figure size 640x480 with 1 Axes>"
      ]
     },
     "metadata": {},
     "output_type": "display_data"
    }
   ],
   "source": [
    "import matplotlib.pyplot as plt\n",
    "import seaborn as sns\n",
    "sns.set_theme()\n",
    "\n",
    "def boxplot(feature):\n",
    "    sns.boxplot(data=df_a,x=feature,orient='h')\n",
    "\n",
    "boxplot(\"Dissolved Oxygen\")"
   ]
  },
  {
   "cell_type": "code",
   "execution_count": 89,
   "id": "1bbfa783",
   "metadata": {
    "execution": {
     "iopub.execute_input": "2023-05-28T18:34:51.872204Z",
     "iopub.status.busy": "2023-05-28T18:34:51.871129Z",
     "iopub.status.idle": "2023-05-28T18:34:52.194153Z",
     "shell.execute_reply": "2023-05-28T18:34:52.193060Z"
    },
    "papermill": {
     "duration": 0.341443,
     "end_time": "2023-05-28T18:34:52.196614",
     "exception": false,
     "start_time": "2023-05-28T18:34:51.855171",
     "status": "completed"
    },
    "tags": []
   },
   "outputs": [
    {
     "data": {
      "image/png": "[encoded data removed]",
      "text/plain": [
       "<Figure size 640x480 with 1 Axes>"
      ]
     },
     "metadata": {},
     "output_type": "display_data"
    }
   ],
   "source": [
    "boxplot(\"pH\")"
   ]
  },
  {
   "cell_type": "code",
   "execution_count": 90,
   "id": "6d1aa93d",
   "metadata": {
    "execution": {
     "iopub.execute_input": "2023-05-28T18:34:52.229167Z",
     "iopub.status.busy": "2023-05-28T18:34:52.228258Z",
     "iopub.status.idle": "2023-05-28T18:34:52.544238Z",
     "shell.execute_reply": "2023-05-28T18:34:52.543444Z"
    },
    "papermill": {
     "duration": 0.334649,
     "end_time": "2023-05-28T18:34:52.546510",
     "exception": false,
     "start_time": "2023-05-28T18:34:52.211861",
     "status": "completed"
    },
    "tags": []
   },
   "outputs": [
    {
     "data": {
      "image/png": "[encoded data removed]",
      "text/plain": [
       "<Figure size 640x480 with 1 Axes>"
      ]
     },
     "metadata": {},
     "output_type": "display_data"
    }
   ],
   "source": [
    "boxplot(\"Conductivity\")"
   ]
  },
  {
   "cell_type": "code",
   "execution_count": 91,
   "id": "5ea2654f",
   "metadata": {
    "execution": {
     "iopub.execute_input": "2023-05-28T18:34:52.579109Z",
     "iopub.status.busy": "2023-05-28T18:34:52.578167Z",
     "iopub.status.idle": "2023-05-28T18:34:52.891932Z",
     "shell.execute_reply": "2023-05-28T18:34:52.890630Z"
    },
    "papermill": {
     "duration": 0.333321,
     "end_time": "2023-05-28T18:34:52.895118",
     "exception": false,
     "start_time": "2023-05-28T18:34:52.561797",
     "status": "completed"
    },
    "tags": []
   },
   "outputs": [
    {
     "data": {
      "image/png": "[encoded data removed]",
      "text/plain": [
       "<Figure size 640x480 with 1 Axes>"
      ]
     },
     "metadata": {},
     "output_type": "display_data"
    }
   ],
   "source": [
    "boxplot(\"BOD\")"
   ]
  },
  {
   "cell_type": "code",
   "execution_count": 92,
   "id": "5d73bfbc",
   "metadata": {
    "execution": {
     "iopub.execute_input": "2023-05-28T18:34:52.928195Z",
     "iopub.status.busy": "2023-05-28T18:34:52.927783Z",
     "iopub.status.idle": "2023-05-28T18:34:53.267224Z",
     "shell.execute_reply": "2023-05-28T18:34:53.266157Z"
    },
    "papermill": {
     "duration": 0.358742,
     "end_time": "2023-05-28T18:34:53.269618",
     "exception": false,
     "start_time": "2023-05-28T18:34:52.910876",
     "status": "completed"
    },
    "tags": []
   },
   "outputs": [
    {
     "data": {
      "image/png": "[encoded data removed]",
      "text/plain": [
       "<Figure size 640x480 with 1 Axes>"
      ]
     },
     "metadata": {},
     "output_type": "display_data"
    }
   ],
   "source": [
    "boxplot(\"Nitrate N + Nitrite N\")"
   ]
  },
  {
   "cell_type": "code",
   "execution_count": 93,
   "id": "32328642",
   "metadata": {
    "execution": {
     "iopub.execute_input": "2023-05-28T18:34:53.303253Z",
     "iopub.status.busy": "2023-05-28T18:34:53.302845Z",
     "iopub.status.idle": "2023-05-28T18:34:53.641099Z",
     "shell.execute_reply": "2023-05-28T18:34:53.640073Z"
    },
    "papermill": {
     "duration": 0.357596,
     "end_time": "2023-05-28T18:34:53.643416",
     "exception": false,
     "start_time": "2023-05-28T18:34:53.285820",
     "status": "completed"
    },
    "tags": []
   },
   "outputs": [
    {
     "data": {
      "image/png": "[encoded data removed]",
      "text/plain": [
       "<Figure size 640x480 with 1 Axes>"
      ]
     },
     "metadata": {},
     "output_type": "display_data"
    }
   ],
   "source": [
    "boxplot(\"Fecal Coliform\")"
   ]
  },
  {
   "cell_type": "code",
   "execution_count": 94,
   "id": "b4d19940",
   "metadata": {
    "execution": {
     "iopub.execute_input": "2023-05-28T18:34:53.677311Z",
     "iopub.status.busy": "2023-05-28T18:34:53.676908Z",
     "iopub.status.idle": "2023-05-28T18:34:53.990025Z",
     "shell.execute_reply": "2023-05-28T18:34:53.988819Z"
    },
    "papermill": {
     "duration": 0.332916,
     "end_time": "2023-05-28T18:34:53.992479",
     "exception": false,
     "start_time": "2023-05-28T18:34:53.659563",
     "status": "completed"
    },
    "tags": []
   },
   "outputs": [
    {
     "data": {
      "image/png": "[encoded data removed]",
      "text/plain": [
       "<Figure size 640x480 with 1 Axes>"
      ]
     },
     "metadata": {},
     "output_type": "display_data"
    }
   ],
   "source": [
    "boxplot(\"Total Coliform\")"
   ]
  },
  {
   "cell_type": "code",
   "execution_count": 95,
   "id": "f1bc75e3",
   "metadata": {
    "execution": {
     "iopub.execute_input": "2023-05-28T18:34:54.028016Z",
     "iopub.status.busy": "2023-05-28T18:34:54.027296Z",
     "iopub.status.idle": "2023-05-28T18:34:54.353722Z",
     "shell.execute_reply": "2023-05-28T18:34:54.352509Z"
    },
    "papermill": {
     "duration": 0.346963,
     "end_time": "2023-05-28T18:34:54.355863",
     "exception": false,
     "start_time": "2023-05-28T18:34:54.008900",
     "status": "completed"
    },
    "tags": []
   },
   "outputs": [
    {
     "data": {
      "image/png": "[encoded data removed]",
      "text/plain": [
       "<Figure size 640x480 with 1 Axes>"
      ]
     },
     "metadata": {},
     "output_type": "display_data"
    }
   ],
   "source": [
    "boxplot(\"WQI\")"
   ]
  },
  {
   "cell_type": "markdown",
   "id": "c125c119",
   "metadata": {
    "papermill": {
     "duration": 0.016058,
     "end_time": "2023-05-28T18:34:54.388503",
     "exception": false,
     "start_time": "2023-05-28T18:34:54.372445",
     "status": "completed"
    },
    "tags": []
   },
   "source": [
    "We can see that there is an extreme right skew to the data of almost all parameters, with significant outliers. This leads to nonsensical values for water quality index. Hence, we remove these extreme outliers (roughly 7.5% of the data) in order to improve the generalizability of the model "
   ]
  },
  {
   "cell_type": "code",
   "execution_count": 96,
   "id": "d4314d42",
   "metadata": {
    "execution": {
     "iopub.execute_input": "2023-05-28T18:34:54.423083Z",
     "iopub.status.busy": "2023-05-28T18:34:54.422670Z",
     "iopub.status.idle": "2023-05-28T18:34:54.448049Z",
     "shell.execute_reply": "2023-05-28T18:34:54.447050Z"
    },
    "papermill": {
     "duration": 0.045395,
     "end_time": "2023-05-28T18:34:54.450194",
     "exception": false,
     "start_time": "2023-05-28T18:34:54.404799",
     "status": "completed"
    },
    "tags": []
   },
   "outputs": [
    {
     "data": {
      "text/html": [
       "<div>\n",
       "<style scoped>\n",
       "    .dataframe tbody tr th:only-of-type {\n",
       "        vertical-align: middle;\n",
       "    }\n",
       "\n",
       "    .dataframe tbody tr th {\n",
       "        vertical-align: top;\n",
       "    }\n",
       "\n",
       "    .dataframe thead th {\n",
       "        text-align: right;\n",
       "    }\n",
       "</style>\n",
       "<table border=\"1\" class=\"dataframe\">\n",
       "  <thead>\n",
       "    <tr style=\"text-align: right;\">\n",
       "      <th></th>\n",
       "      <th>STN Code</th>\n",
       "      <th>Dissolved Oxygen</th>\n",
       "      <th>pH</th>\n",
       "      <th>Conductivity</th>\n",
       "      <th>BOD</th>\n",
       "      <th>Nitrate N + Nitrite N</th>\n",
       "      <th>Fecal Coliform</th>\n",
       "      <th>Total Coliform</th>\n",
       "      <th>WQI</th>\n",
       "    </tr>\n",
       "  </thead>\n",
       "  <tbody>\n",
       "    <tr>\n",
       "      <th>0</th>\n",
       "      <td>1790</td>\n",
       "      <td>6.00</td>\n",
       "      <td>7.80</td>\n",
       "      <td>79935.0</td>\n",
       "      <td>1.65</td>\n",
       "      <td>3.775</td>\n",
       "      <td>2.0</td>\n",
       "      <td>1200.0</td>\n",
       "      <td>88.277923</td>\n",
       "    </tr>\n",
       "    <tr>\n",
       "      <th>1</th>\n",
       "      <td>2353</td>\n",
       "      <td>6.35</td>\n",
       "      <td>7.65</td>\n",
       "      <td>815.5</td>\n",
       "      <td>1.80</td>\n",
       "      <td>2.260</td>\n",
       "      <td>20.0</td>\n",
       "      <td>1375.0</td>\n",
       "      <td>68.080478</td>\n",
       "    </tr>\n",
       "    <tr>\n",
       "      <th>2</th>\n",
       "      <td>2205</td>\n",
       "      <td>4.70</td>\n",
       "      <td>6.35</td>\n",
       "      <td>89.0</td>\n",
       "      <td>8.60</td>\n",
       "      <td>0.900</td>\n",
       "      <td>1150.0</td>\n",
       "      <td>3380.0</td>\n",
       "      <td>138.790236</td>\n",
       "    </tr>\n",
       "    <tr>\n",
       "      <th>3</th>\n",
       "      <td>2206</td>\n",
       "      <td>5.55</td>\n",
       "      <td>7.20</td>\n",
       "      <td>103.5</td>\n",
       "      <td>1.85</td>\n",
       "      <td>0.750</td>\n",
       "      <td>750.0</td>\n",
       "      <td>2800.0</td>\n",
       "      <td>80.709022</td>\n",
       "    </tr>\n",
       "    <tr>\n",
       "      <th>4</th>\n",
       "      <td>2557</td>\n",
       "      <td>6.70</td>\n",
       "      <td>7.55</td>\n",
       "      <td>273.5</td>\n",
       "      <td>2.45</td>\n",
       "      <td>0.000</td>\n",
       "      <td>16500.0</td>\n",
       "      <td>26500.0</td>\n",
       "      <td>440.315367</td>\n",
       "    </tr>\n",
       "    <tr>\n",
       "      <th>...</th>\n",
       "      <td>...</td>\n",
       "      <td>...</td>\n",
       "      <td>...</td>\n",
       "      <td>...</td>\n",
       "      <td>...</td>\n",
       "      <td>...</td>\n",
       "      <td>...</td>\n",
       "      <td>...</td>\n",
       "      <td>...</td>\n",
       "    </tr>\n",
       "    <tr>\n",
       "      <th>334</th>\n",
       "      <td>5050</td>\n",
       "      <td>1.70</td>\n",
       "      <td>7.45</td>\n",
       "      <td>1458.0</td>\n",
       "      <td>10.50</td>\n",
       "      <td>29.900</td>\n",
       "      <td>36.0</td>\n",
       "      <td>335.0</td>\n",
       "      <td>167.280088</td>\n",
       "    </tr>\n",
       "    <tr>\n",
       "      <th>335</th>\n",
       "      <td>5042</td>\n",
       "      <td>1.65</td>\n",
       "      <td>7.55</td>\n",
       "      <td>1638.5</td>\n",
       "      <td>12.90</td>\n",
       "      <td>18.800</td>\n",
       "      <td>45.0</td>\n",
       "      <td>570.0</td>\n",
       "      <td>189.579483</td>\n",
       "    </tr>\n",
       "    <tr>\n",
       "      <th>336</th>\n",
       "      <td>5031</td>\n",
       "      <td>2.05</td>\n",
       "      <td>7.60</td>\n",
       "      <td>1046.0</td>\n",
       "      <td>11.50</td>\n",
       "      <td>4.750</td>\n",
       "      <td>29.5</td>\n",
       "      <td>570.0</td>\n",
       "      <td>174.120398</td>\n",
       "    </tr>\n",
       "    <tr>\n",
       "      <th>337</th>\n",
       "      <td>3437</td>\n",
       "      <td>8.20</td>\n",
       "      <td>7.60</td>\n",
       "      <td>185.0</td>\n",
       "      <td>1.30</td>\n",
       "      <td>0.345</td>\n",
       "      <td>120.0</td>\n",
       "      <td>375.0</td>\n",
       "      <td>55.529251</td>\n",
       "    </tr>\n",
       "    <tr>\n",
       "      <th>338</th>\n",
       "      <td>1362</td>\n",
       "      <td>8.60</td>\n",
       "      <td>7.50</td>\n",
       "      <td>405.0</td>\n",
       "      <td>1.50</td>\n",
       "      <td>0.340</td>\n",
       "      <td>245.0</td>\n",
       "      <td>635.0</td>\n",
       "      <td>56.511558</td>\n",
       "    </tr>\n",
       "  </tbody>\n",
       "</table>\n",
       "<p>303 rows × 9 columns</p>\n",
       "</div>"
      ],
      "text/plain": [
       "     STN Code  Dissolved Oxygen    pH  Conductivity    BOD  \\\n",
       "0        1790              6.00  7.80       79935.0   1.65   \n",
       "1        2353              6.35  7.65         815.5   1.80   \n",
       "2        2205              4.70  6.35          89.0   8.60   \n",
       "3        2206              5.55  7.20         103.5   1.85   \n",
       "4        2557              6.70  7.55         273.5   2.45   \n",
       "..        ...               ...   ...           ...    ...   \n",
       "334      5050              1.70  7.45        1458.0  10.50   \n",
       "335      5042              1.65  7.55        1638.5  12.90   \n",
       "336      5031              2.05  7.60        1046.0  11.50   \n",
       "337      3437              8.20  7.60         185.0   1.30   \n",
       "338      1362              8.60  7.50         405.0   1.50   \n",
       "\n",
       "     Nitrate N + Nitrite N  Fecal Coliform  Total Coliform         WQI  \n",
       "0                    3.775             2.0          1200.0   88.277923  \n",
       "1                    2.260            20.0          1375.0   68.080478  \n",
       "2                    0.900          1150.0          3380.0  138.790236  \n",
       "3                    0.750           750.0          2800.0   80.709022  \n",
       "4                    0.000         16500.0         26500.0  440.315367  \n",
       "..                     ...             ...             ...         ...  \n",
       "334                 29.900            36.0           335.0  167.280088  \n",
       "335                 18.800            45.0           570.0  189.579483  \n",
       "336                  4.750            29.5           570.0  174.120398  \n",
       "337                  0.345           120.0           375.0   55.529251  \n",
       "338                  0.340           245.0           635.0   56.511558  \n",
       "\n",
       "[303 rows x 9 columns]"
      ]
     },
     "execution_count": 96,
     "metadata": {},
     "output_type": "execute_result"
    }
   ],
   "source": [
    "df_a = df_a[df_a[\"WQI\"]<2000]\n",
    "df_a"
   ]
  },
  {
   "cell_type": "markdown",
   "id": "22103cea",
   "metadata": {
    "papermill": {
     "duration": 0.016468,
     "end_time": "2023-05-28T18:34:54.484106",
     "exception": false,
     "start_time": "2023-05-28T18:34:54.467638",
     "status": "completed"
    },
    "tags": []
   },
   "source": [
    "# Predicting WQI with lesser parameters"
   ]
  },
  {
   "cell_type": "markdown",
   "id": "0993da3a",
   "metadata": {},
   "source": [
    "## Linear Regression"
   ]
  },
  {
   "cell_type": "code",
   "execution_count": 97,
   "id": "58464134",
   "metadata": {
    "execution": {
     "iopub.execute_input": "2023-05-28T18:34:54.526666Z",
     "iopub.status.busy": "2023-05-28T18:34:54.525667Z",
     "iopub.status.idle": "2023-05-28T18:34:54.842278Z",
     "shell.execute_reply": "2023-05-28T18:34:54.841177Z"
    },
    "papermill": {
     "duration": 0.340734,
     "end_time": "2023-05-28T18:34:54.844640",
     "exception": false,
     "start_time": "2023-05-28T18:34:54.503906",
     "status": "completed"
    },
    "tags": []
   },
   "outputs": [
    {
     "name": "stdout",
     "output_type": "stream",
     "text": [
      "322    7.75\n",
      "105    8.10\n",
      "268    6.50\n",
      "68     8.00\n",
      "37     8.35\n",
      "21     7.70\n",
      "209    8.45\n",
      "251    7.05\n",
      "248    7.50\n",
      "64     7.80\n",
      "Name: pH, dtype: float64\n",
      "[0.52459016 0.63934426 0.1147541  0.60655738 0.72131148 0.50819672\n",
      " 0.75409836 0.29508197 0.44262295 0.54098361]\n",
      "     Dissolved Oxygen        pH  Conductivity       BOD  \\\n",
      "0            0.086957  0.524590      0.008365  0.202976   \n",
      "1            0.230435  0.639344      0.006419  0.018452   \n",
      "2            0.263043  0.114754      0.013502  0.047619   \n",
      "3            0.304348  0.606557      0.005049  0.020238   \n",
      "4            0.302174  0.721311      0.006457  0.065476   \n",
      "..                ...       ...           ...       ...   \n",
      "237          0.119565  0.639344      0.081126  0.589286   \n",
      "238          0.173913  0.622951      0.004486  0.041667   \n",
      "239          0.230435  0.655738      0.005306  0.214286   \n",
      "240          0.047826  0.442623      0.014347  0.226190   \n",
      "241          0.228261  0.622951      0.008572  0.051786   \n",
      "\n",
      "     Nitrate N + Nitrite N  Fecal Coliform  Total Coliform          WQI  \n",
      "0                 0.013650        0.000134        0.000657   225.279710  \n",
      "1                 0.004395        0.000089        0.000080    77.786062  \n",
      "2                 0.006325        0.216541        0.170370   464.649022  \n",
      "3                 0.003978        0.000000        0.000120    69.011646  \n",
      "4                 0.004245        0.505274        0.502861  1046.832031  \n",
      "..                     ...             ...             ...          ...  \n",
      "237               0.007940        0.216541        0.040741   896.825519  \n",
      "238               0.010154        0.000357        0.000752   101.133991  \n",
      "239               0.000999        0.000605        0.000554   225.093014  \n",
      "240               0.007990        0.000790        0.000779   243.606110  \n",
      "241               0.007657        0.015771        0.013148   130.893973  \n",
      "\n",
      "[242 rows x 8 columns]\n"
     ]
    }
   ],
   "source": [
    "from sklearn.model_selection import train_test_split\n",
    "from sklearn.preprocessing import MinMaxScaler\n",
    "\n",
    "ncols = [\"Dissolved Oxygen\",\"pH\",\"Conductivity\",\"BOD\",\"Nitrate N + Nitrite N\",\"Fecal Coliform\",\"Total Coliform\"]\n",
    "X,y = df_a[ncols],df_a[\"WQI\"]\n",
    "X_train,X_test,y_train,y_test = train_test_split(X,y,test_size=0.2,random_state=10)\n",
    "\n",
    "# Avant normalisation\n",
    "print(X_train[\"pH\"].head(10))\n",
    "\n",
    "s = MinMaxScaler()\n",
    "X_train_ = s.fit_transform(X_train)\n",
    "X_test_ = s.transform(X_test)\n",
    "\n",
    "sdf = pd.DataFrame(X_train_,columns=ncols)\n",
    "sdf[\"WQI\"] = pd.Series(y_train).values\n",
    "\n",
    "# Après normalisation\n",
    "print(X_train_[:, ncols.index(\"pH\")][:10])\n",
    "\n",
    "print(sdf)\n",
    "\n",
    "sdf.to_csv('combined_lake.csv', index=False)"
   ]
  },
  {
   "cell_type": "code",
   "execution_count": 98,
   "id": "b7df42cc",
   "metadata": {},
   "outputs": [
    {
     "data": {
      "text/plain": [
       "<Axes: >"
      ]
     },
     "execution_count": 98,
     "metadata": {},
     "output_type": "execute_result"
    },
    {
     "data": {
      "image/png": "[encoded data removed]",
      "text/plain": [
       "<Figure size 640x480 with 2 Axes>"
      ]
     },
     "metadata": {},
     "output_type": "display_data"
    }
   ],
   "source": [
    "cmatrix = sdf.corr(method='spearman').round(2)\n",
    "sns.heatmap(cmatrix,annot=True)"
   ]
  },
  {
   "cell_type": "code",
   "execution_count": 99,
   "id": "56ddab14",
   "metadata": {},
   "outputs": [
    {
     "name": "stdout",
     "output_type": "stream",
     "text": [
      "(242, 5)\n"
     ]
    }
   ],
   "source": [
    "selected_features = [2,3,4,5,6] # BOD,Fecal Coliform,Dissolved Oxygen\n",
    "del_ft = [0,1]\n",
    "X_train_ = np.delete(X_train_,del_ft,axis=1)\n",
    "X_test_ = np.delete(X_test_,del_ft,axis=1)\n",
    "print(X_train_.shape)"
   ]
  },
  {
   "cell_type": "code",
   "execution_count": 100,
   "id": "f726bb4c",
   "metadata": {},
   "outputs": [
    {
     "name": "stdout",
     "output_type": "stream",
     "text": [
      "RMSE: 13.497126150134502\n",
      "R2 : 0.998599309324624\n"
     ]
    },
    {
     "name": "stderr",
     "output_type": "stream",
     "text": [
      "c:\\anaconda\\envs\\MLOPs\\Lib\\site-packages\\sklearn\\metrics\\_regression.py:492: FutureWarning: 'squared' is deprecated in version 1.4 and will be removed in 1.6. To calculate the root mean squared error, use the function'root_mean_squared_error'.\n",
      "  warnings.warn(\n"
     ]
    }
   ],
   "source": [
    "from sklearn.linear_model import LassoCV\n",
    "from sklearn.metrics import r2_score, mean_squared_error\n",
    "\n",
    "# Ajuster le modèle LassoCV\n",
    "reg = LassoCV(cv=5, random_state=10).fit(X_train_, y_train)\n",
    "\n",
    "# Faire des prédictions\n",
    "y_hat = reg.predict(X_test_)\n",
    "\n",
    "# Calculer les métriques de performance\n",
    "print(f\"RMSE: {mean_squared_error(y_test, y_hat, squared=False)}\")\n",
    "print(f\"R2 : {r2_score(y_test, y_hat)}\")\n"
   ]
  },
  {
   "cell_type": "code",
   "execution_count": 101,
   "id": "5a8815da",
   "metadata": {},
   "outputs": [
    {
     "data": {
      "image/png": "[encoded data removed]",
      "text/plain": [
       "<Figure size 640x480 with 1 Axes>"
      ]
     },
     "metadata": {},
     "output_type": "display_data"
    }
   ],
   "source": [
    "residuals = y_test-y_hat\n",
    "plt.scatter(y_hat,residuals)\n",
    "plt.show()"
   ]
  },
  {
   "cell_type": "code",
   "execution_count": 102,
   "id": "86ba9b8b",
   "metadata": {},
   "outputs": [
    {
     "name": "stdout",
     "output_type": "stream",
     "text": [
      "170    796.179775\n",
      "323    187.673960\n",
      "131    269.054535\n",
      "325    196.200610\n",
      "182    973.216293\n",
      "59      49.974877\n",
      "124    246.362079\n",
      "Name: WQI, dtype: float64\n"
     ]
    }
   ],
   "source": [
    "# Identifier les valeurs où les résidus sont très élevés\n",
    "outliers = y_test[(residuals < -20) | (residuals > 20)]\n",
    "print(outliers)"
   ]
  },
  {
   "cell_type": "code",
   "execution_count": 103,
   "id": "837d67c8",
   "metadata": {},
   "outputs": [
    {
     "data": {
      "image/png": "[encoded data removed]",
      "text/plain": [
       "<Figure size 640x480 with 1 Axes>"
      ]
     },
     "metadata": {},
     "output_type": "display_data"
    }
   ],
   "source": [
    "# Histogramme des résidus\n",
    "plt.hist(residuals, bins=20, edgecolor='black')\n",
    "plt.title(\"Distribution des résidus\")\n",
    "plt.xlabel(\"Résidus\")\n",
    "plt.ylabel(\"Fréquence\")\n",
    "plt.show()"
   ]
  },
  {
   "cell_type": "code",
   "execution_count": 104,
   "id": "062d01ed",
   "metadata": {},
   "outputs": [
    {
     "name": "stdout",
     "output_type": "stream",
     "text": [
      "[   5.75552849  769.44890513    9.16360702 1719.68258624  120.32318858]\n"
     ]
    }
   ],
   "source": [
    "print(reg.coef_)"
   ]
  },
  {
   "cell_type": "code",
   "execution_count": 105,
   "id": "570b12af",
   "metadata": {},
   "outputs": [
    {
     "name": "stdout",
     "output_type": "stream",
     "text": [
      "Scores R2 pour chaque fold : [0.99854528 0.99545034 0.99858494 0.99851576 0.99865742]\n",
      "R2 moyen : 0.998\n",
      "Écart-type des R2 : 0.001\n"
     ]
    }
   ],
   "source": [
    "from sklearn.model_selection import KFold, cross_val_score\n",
    "from sklearn.linear_model import Lasso\n",
    "\n",
    "# Définir KFold\n",
    "kfold = KFold(n_splits=5, shuffle=True, random_state=10)\n",
    "\n",
    "# Instancier le modèle\n",
    "lasso = Lasso(alpha=reg.alpha_)  # Utilisez la régularisation trouvée par LassoCV\n",
    "\n",
    "# Effectuer la validation croisée\n",
    "scores = cross_val_score(lasso, X_train_, y_train, cv=kfold, scoring='r2')\n",
    "\n",
    "print(f\"Scores R2 pour chaque fold : {scores}\")\n",
    "print(f\"R2 moyen : {scores.mean():.3f}\")\n",
    "print(f\"Écart-type des R2 : {scores.std():.3f}\")"
   ]
  },
  {
   "cell_type": "code",
   "execution_count": 106,
   "id": "10d261a4",
   "metadata": {},
   "outputs": [
    {
     "name": "stdout",
     "output_type": "stream",
     "text": [
      "R2 moyen : 0.9979507474803663\n",
      "RMSE moyen : 14.705886366052718\n"
     ]
    },
    {
     "name": "stderr",
     "output_type": "stream",
     "text": [
      "c:\\anaconda\\envs\\MLOPs\\Lib\\site-packages\\sklearn\\metrics\\_regression.py:492: FutureWarning: 'squared' is deprecated in version 1.4 and will be removed in 1.6. To calculate the root mean squared error, use the function'root_mean_squared_error'.\n",
      "  warnings.warn(\n",
      "c:\\anaconda\\envs\\MLOPs\\Lib\\site-packages\\sklearn\\metrics\\_regression.py:492: FutureWarning: 'squared' is deprecated in version 1.4 and will be removed in 1.6. To calculate the root mean squared error, use the function'root_mean_squared_error'.\n",
      "  warnings.warn(\n",
      "c:\\anaconda\\envs\\MLOPs\\Lib\\site-packages\\sklearn\\metrics\\_regression.py:492: FutureWarning: 'squared' is deprecated in version 1.4 and will be removed in 1.6. To calculate the root mean squared error, use the function'root_mean_squared_error'.\n",
      "  warnings.warn(\n",
      "c:\\anaconda\\envs\\MLOPs\\Lib\\site-packages\\sklearn\\metrics\\_regression.py:492: FutureWarning: 'squared' is deprecated in version 1.4 and will be removed in 1.6. To calculate the root mean squared error, use the function'root_mean_squared_error'.\n",
      "  warnings.warn(\n",
      "c:\\anaconda\\envs\\MLOPs\\Lib\\site-packages\\sklearn\\metrics\\_regression.py:492: FutureWarning: 'squared' is deprecated in version 1.4 and will be removed in 1.6. To calculate the root mean squared error, use the function'root_mean_squared_error'.\n",
      "  warnings.warn(\n",
      "c:\\anaconda\\envs\\MLOPs\\Lib\\site-packages\\sklearn\\metrics\\_regression.py:492: FutureWarning: 'squared' is deprecated in version 1.4 and will be removed in 1.6. To calculate the root mean squared error, use the function'root_mean_squared_error'.\n",
      "  warnings.warn(\n",
      "c:\\anaconda\\envs\\MLOPs\\Lib\\site-packages\\sklearn\\metrics\\_regression.py:492: FutureWarning: 'squared' is deprecated in version 1.4 and will be removed in 1.6. To calculate the root mean squared error, use the function'root_mean_squared_error'.\n",
      "  warnings.warn(\n",
      "c:\\anaconda\\envs\\MLOPs\\Lib\\site-packages\\sklearn\\metrics\\_regression.py:492: FutureWarning: 'squared' is deprecated in version 1.4 and will be removed in 1.6. To calculate the root mean squared error, use the function'root_mean_squared_error'.\n",
      "  warnings.warn(\n",
      "c:\\anaconda\\envs\\MLOPs\\Lib\\site-packages\\sklearn\\metrics\\_regression.py:492: FutureWarning: 'squared' is deprecated in version 1.4 and will be removed in 1.6. To calculate the root mean squared error, use the function'root_mean_squared_error'.\n",
      "  warnings.warn(\n",
      "c:\\anaconda\\envs\\MLOPs\\Lib\\site-packages\\sklearn\\metrics\\_regression.py:492: FutureWarning: 'squared' is deprecated in version 1.4 and will be removed in 1.6. To calculate the root mean squared error, use the function'root_mean_squared_error'.\n",
      "  warnings.warn(\n"
     ]
    }
   ],
   "source": [
    "from sklearn.model_selection import cross_validate\n",
    "from sklearn.metrics import make_scorer, mean_squared_error\n",
    "\n",
    "# Créer une métrique RMSE personnalisée\n",
    "rmse_scorer = make_scorer(mean_squared_error, squared=False)\n",
    "\n",
    "# Validation croisée avec plusieurs métriques\n",
    "results = cross_validate(lasso, X_train_, y_train, cv=kfold,\n",
    "                         scoring={'r2': 'r2', 'rmse': rmse_scorer},\n",
    "                         return_train_score=True)\n",
    "\n",
    "print(\"R2 moyen :\", results['test_r2'].mean())\n",
    "print(\"RMSE moyen :\", results['test_rmse'].mean())\n"
   ]
  },
  {
   "cell_type": "code",
   "execution_count": 107,
   "id": "c8cf4dbf",
   "metadata": {},
   "outputs": [
    {
     "name": "stdout",
     "output_type": "stream",
     "text": [
      "Accuracy = 0.9508196721311475\n"
     ]
    },
    {
     "data": {
      "image/png": "[encoded data removed]",
      "text/plain": [
       "<Figure size 640x480 with 2 Axes>"
      ]
     },
     "metadata": {},
     "output_type": "display_data"
    }
   ],
   "source": [
    "#testing classification accuracy\n",
    "from sklearn.metrics import accuracy_score,confusion_matrix\n",
    "\n",
    "def classify(y):\n",
    "    y_c = np.zeros_like(y,dtype=int)\n",
    "    for i in range(len(y)):\n",
    "        if y[i] < 50:\n",
    "            y_c[i] = 0\n",
    "        elif y[i] < 100:\n",
    "            y_c[i] = 1\n",
    "        elif y[i] < 200:\n",
    "            y_c[i] = 2\n",
    "        elif y[i] < 300:\n",
    "            y_c[i] = 3\n",
    "        else:\n",
    "            y_c[i] = 4\n",
    "    return y_c\n",
    "\n",
    "y_c = classify(y_test.to_numpy())\n",
    "y_c_hat = classify(y_hat)    \n",
    "    \n",
    "print(f'Accuracy = {accuracy_score(y_c,y_c_hat)}')\n",
    "cm = confusion_matrix(y_c,y_c_hat)\n",
    "sns.heatmap(cm,annot=True)\n",
    "plt.ylabel('True Labels')\n",
    "plt.xlabel('Predicted Labels')\n",
    "plt.show()"
   ]
  },
  {
   "cell_type": "markdown",
   "id": "4b10010e",
   "metadata": {},
   "source": [
    "## GradientBoostingRegressor"
   ]
  },
  {
   "cell_type": "code",
   "execution_count": 108,
   "id": "d0350622",
   "metadata": {},
   "outputs": [],
   "source": [
    "# Importation des bibliothèques nécessaires\n",
    "import pandas as pd\n",
    "import numpy as np\n",
    "from sklearn.model_selection import train_test_split, cross_val_score\n",
    "from sklearn.ensemble import GradientBoostingRegressor\n",
    "from sklearn.metrics import mean_squared_error, r2_score\n",
    "import matplotlib.pyplot as plt\n",
    "import seaborn as sns\n",
    "\n",
    "# Style des graphiques\n",
    "sns.set(style=\"whitegrid\")\n",
    "\n",
    "ncols = [\"Dissolved Oxygen\",\"pH\",\"Conductivity\",\"BOD\",\"Nitrate N + Nitrite N\",\"Fecal Coliform\",\"Total Coliform\"]\n",
    "X,y = df_a[ncols],df_a[\"WQI\"]\n",
    "X_train,X_test,y_train,y_test = train_test_split(X,y,test_size=0.2,random_state=10)\n",
    "\n",
    "# Initialisation des modèles\n",
    "gb_model = GradientBoostingRegressor(random_state=42, n_estimators=100)  # Modèle Gradient Boosting\n",
    "\n",
    "# Entraînement des modèles\n",
    "gb_model.fit(X_train, y_train)\n",
    "\n",
    "# Prédictions sur l'ensemble de test\n",
    "y_pred_gb = gb_model.predict(X_test)"
   ]
  },
  {
   "cell_type": "code",
   "execution_count": 109,
   "id": "75a9325c",
   "metadata": {},
   "outputs": [
    {
     "name": "stdout",
     "output_type": "stream",
     "text": [
      "\n",
      "=== Performance du modèle Gradient Boosting ===\n",
      "R² : 0.952\n",
      "RMSE : 78.663\n"
     ]
    },
    {
     "data": {
      "image/png": "[encoded data removed]",
      "text/plain": [
       "<Figure size 1000x600 with 1 Axes>"
      ]
     },
     "metadata": {},
     "output_type": "display_data"
    },
    {
     "data": {
      "image/png": "[encoded data removed]",
      "text/plain": [
       "<Figure size 1000x600 with 1 Axes>"
      ]
     },
     "metadata": {},
     "output_type": "display_data"
    }
   ],
   "source": [
    "print(\"\\n=== Performance du modèle Gradient Boosting ===\")\n",
    "print(f\"R² : {r2_score(y_test, y_pred_gb):.3f}\")\n",
    "print(f\"RMSE : {np.sqrt(mean_squared_error(y_test, y_pred_gb)):.3f}\")\n",
    "\n",
    "# Visualisation des résidus pour Gradient Boosting\n",
    "residuals_gb = y_test - y_pred_gb\n",
    "\n",
    "plt.figure(figsize=(10, 6))\n",
    "plt.scatter(y_pred_gb, residuals_gb)\n",
    "plt.axhline(0, color='red', linestyle='--')\n",
    "plt.title(\"Résidus vs Prédictions (Gradient Boosting)\")\n",
    "plt.xlabel(\"Prédictions\")\n",
    "plt.ylabel(\"Résidus\")\n",
    "plt.show()\n",
    "\n",
    "# Histogramme des résidus\n",
    "plt.figure(figsize=(10, 6))\n",
    "plt.hist(residuals_gb, bins=20, edgecolor=\"black\")\n",
    "plt.title(\"Distribution des résidus (Gradient Boosting)\")\n",
    "plt.xlabel(\"Résidus\")\n",
    "plt.ylabel(\"Fréquence\")\n",
    "plt.show()"
   ]
  },
  {
   "cell_type": "code",
   "execution_count": 116,
   "id": "985922e6",
   "metadata": {},
   "outputs": [
    {
     "name": "stderr",
     "output_type": "stream",
     "text": [
      "c:\\anaconda\\envs\\MLOPs\\Lib\\site-packages\\sklearn\\metrics\\_regression.py:492: FutureWarning: 'squared' is deprecated in version 1.4 and will be removed in 1.6. To calculate the root mean squared error, use the function'root_mean_squared_error'.\n",
      "  warnings.warn(\n",
      "c:\\anaconda\\envs\\MLOPs\\Lib\\site-packages\\sklearn\\metrics\\_regression.py:492: FutureWarning: 'squared' is deprecated in version 1.4 and will be removed in 1.6. To calculate the root mean squared error, use the function'root_mean_squared_error'.\n",
      "  warnings.warn(\n",
      "c:\\anaconda\\envs\\MLOPs\\Lib\\site-packages\\sklearn\\metrics\\_regression.py:492: FutureWarning: 'squared' is deprecated in version 1.4 and will be removed in 1.6. To calculate the root mean squared error, use the function'root_mean_squared_error'.\n",
      "  warnings.warn(\n",
      "c:\\anaconda\\envs\\MLOPs\\Lib\\site-packages\\sklearn\\metrics\\_regression.py:492: FutureWarning: 'squared' is deprecated in version 1.4 and will be removed in 1.6. To calculate the root mean squared error, use the function'root_mean_squared_error'.\n",
      "  warnings.warn(\n",
      "c:\\anaconda\\envs\\MLOPs\\Lib\\site-packages\\sklearn\\metrics\\_regression.py:492: FutureWarning: 'squared' is deprecated in version 1.4 and will be removed in 1.6. To calculate the root mean squared error, use the function'root_mean_squared_error'.\n",
      "  warnings.warn(\n",
      "c:\\anaconda\\envs\\MLOPs\\Lib\\site-packages\\sklearn\\metrics\\_regression.py:492: FutureWarning: 'squared' is deprecated in version 1.4 and will be removed in 1.6. To calculate the root mean squared error, use the function'root_mean_squared_error'.\n",
      "  warnings.warn(\n",
      "c:\\anaconda\\envs\\MLOPs\\Lib\\site-packages\\sklearn\\metrics\\_regression.py:492: FutureWarning: 'squared' is deprecated in version 1.4 and will be removed in 1.6. To calculate the root mean squared error, use the function'root_mean_squared_error'.\n",
      "  warnings.warn(\n",
      "c:\\anaconda\\envs\\MLOPs\\Lib\\site-packages\\sklearn\\metrics\\_regression.py:492: FutureWarning: 'squared' is deprecated in version 1.4 and will be removed in 1.6. To calculate the root mean squared error, use the function'root_mean_squared_error'.\n",
      "  warnings.warn(\n"
     ]
    },
    {
     "name": "stdout",
     "output_type": "stream",
     "text": [
      "\n",
      "=== Résultats de la validation croisée ===\n",
      "R² moyen : 0.9571698734056234\n",
      "RMSE moyen : 64.46339511455253\n",
      "\n",
      "=== Performance de classification ===\n",
      "Accuracy : 0.934\n"
     ]
    },
    {
     "name": "stderr",
     "output_type": "stream",
     "text": [
      "c:\\anaconda\\envs\\MLOPs\\Lib\\site-packages\\sklearn\\metrics\\_regression.py:492: FutureWarning: 'squared' is deprecated in version 1.4 and will be removed in 1.6. To calculate the root mean squared error, use the function'root_mean_squared_error'.\n",
      "  warnings.warn(\n",
      "c:\\anaconda\\envs\\MLOPs\\Lib\\site-packages\\sklearn\\metrics\\_regression.py:492: FutureWarning: 'squared' is deprecated in version 1.4 and will be removed in 1.6. To calculate the root mean squared error, use the function'root_mean_squared_error'.\n",
      "  warnings.warn(\n"
     ]
    },
    {
     "data": {
      "image/png": "[encoded data removed]",
      "text/plain": [
       "<Figure size 800x600 with 2 Axes>"
      ]
     },
     "metadata": {},
     "output_type": "display_data"
    }
   ],
   "source": [
    "# Importation des bibliothèques nécessaires\n",
    "import pandas as pd\n",
    "import numpy as np\n",
    "from sklearn.model_selection import train_test_split, KFold, cross_val_score, cross_validate\n",
    "from sklearn.ensemble import RandomForestRegressor\n",
    "from sklearn.metrics import mean_squared_error, r2_score, confusion_matrix, accuracy_score, make_scorer\n",
    "import matplotlib.pyplot as plt\n",
    "import seaborn as sns\n",
    "\n",
    "# Validation croisée pour Random Forest\n",
    "kfold = KFold(n_splits=5, shuffle=True, random_state=10)\n",
    "\n",
    "# Créer une métrique RMSE personnalisée\n",
    "rmse_scorer = make_scorer(mean_squared_error, squared=False)\n",
    "\n",
    "# Validation croisée avec plusieurs métriques\n",
    "results = cross_validate(gb_model, X_train, y_train, cv=kfold,\n",
    "                         scoring={'r2': 'r2', 'rmse': rmse_scorer},\n",
    "                         return_train_score=True)\n",
    "\n",
    "print(\"\\n=== Résultats de la validation croisée ===\")\n",
    "print(\"R² moyen :\", results['test_r2'].mean())\n",
    "print(\"RMSE moyen :\", results['test_rmse'].mean())\n",
    "\n",
    "# Conversion des valeurs pour une tâche de classification\n",
    "def classify(y):\n",
    "    y_c = np.zeros_like(y, dtype=int)\n",
    "    for i in range(len(y)):\n",
    "        if y[i] < 50:\n",
    "            y_c[i] = 0\n",
    "        elif y[i] < 100:\n",
    "            y_c[i] = 1\n",
    "        elif y[i] < 200:\n",
    "            y_c[i] = 2\n",
    "        elif y[i] < 300:\n",
    "            y_c[i] = 3\n",
    "        else:\n",
    "            y_c[i] = 4\n",
    "    return y_c\n",
    "\n",
    "# Classification des valeurs réelles et prédites\n",
    "y_c = classify(y_test.to_numpy())\n",
    "y_c_hat = classify(y_pred_gb)\n",
    "\n",
    "# Évaluation des performances de classification\n",
    "print(\"\\n=== Performance de classification ===\")\n",
    "print(f\"Accuracy : {accuracy_score(y_c, y_c_hat):.3f}\")\n",
    "cm = confusion_matrix(y_c, y_c_hat)\n",
    "\n",
    "# Affichage de la matrice de confusion\n",
    "plt.figure(figsize=(8, 6))\n",
    "sns.heatmap(cm, annot=True, fmt=\"d\", cmap=\"Blues\")\n",
    "plt.ylabel(\"True Labels\")\n",
    "plt.xlabel(\"Predicted Labels\")\n",
    "plt.title(\"Matrice de confusion\")\n",
    "plt.show()"
   ]
  },
  {
   "cell_type": "markdown",
   "id": "31e20f52",
   "metadata": {},
   "source": [
    "## Random Forest"
   ]
  },
  {
   "cell_type": "code",
   "execution_count": 110,
   "id": "a4b23e8b",
   "metadata": {},
   "outputs": [],
   "source": [
    "# Importation des bibliothèques nécessaires\n",
    "import pandas as pd\n",
    "import numpy as np\n",
    "from sklearn.model_selection import train_test_split, cross_val_score\n",
    "from sklearn.ensemble import RandomForestRegressor\n",
    "from sklearn.metrics import mean_squared_error, r2_score\n",
    "import matplotlib.pyplot as plt\n",
    "import seaborn as sns\n",
    "\n",
    "# Style des graphiques\n",
    "sns.set(style=\"whitegrid\")\n",
    "\n",
    "ncols = [\"Dissolved Oxygen\",\"pH\",\"Conductivity\",\"BOD\",\"Nitrate N + Nitrite N\",\"Fecal Coliform\",\"Total Coliform\"]\n",
    "X,y = df_a[ncols],df_a[\"WQI\"]\n",
    "X_train,X_test,y_train,y_test = train_test_split(X,y,test_size=0.2,random_state=10)\n",
    "\n",
    "# Initialisation des modèles\n",
    "rf_model = RandomForestRegressor(random_state=42, n_estimators=300)  # Modèle Random Forest\n",
    "\n",
    "# Entraînement des modèles\n",
    "rf_model.fit(X_train, y_train)\n",
    "\n",
    "# Prédictions sur l'ensemble de test\n",
    "y_pred_rf = rf_model.predict(X_test)"
   ]
  },
  {
   "cell_type": "code",
   "execution_count": 111,
   "id": "07c08006",
   "metadata": {},
   "outputs": [
    {
     "name": "stdout",
     "output_type": "stream",
     "text": [
      "       WQI Réel  WQI Prédit (Random Forest)\n",
      "0   1050.055508                 1075.145345\n",
      "1     68.449246                   79.083308\n",
      "2     81.508895                   78.825800\n",
      "3    203.789321                  196.759154\n",
      "4     70.096323                   81.302899\n",
      "..          ...                         ...\n",
      "56   156.062756                  150.764998\n",
      "57   246.362079                  251.163951\n",
      "58    74.979642                   83.125118\n",
      "59    55.529251                   53.010729\n",
      "60   165.382904                  163.942717\n",
      "\n",
      "[61 rows x 2 columns]\n"
     ]
    }
   ],
   "source": [
    "# Créer un DataFrame avec les valeurs réelles et prédites (par exemple, avec Random Forest)\n",
    "results_df = pd.DataFrame({\n",
    "    \"WQI Réel\": y_test.values,\n",
    "    \"WQI Prédit (Random Forest)\": y_pred_rf,\n",
    "})\n",
    "\n",
    "# Ajouter l'index des prédictions\n",
    "results_df.reset_index(drop=True, inplace=True)\n",
    "\n",
    "# Affichage du DataFrame pour vérification\n",
    "print(results_df)"
   ]
  },
  {
   "cell_type": "code",
   "execution_count": 112,
   "id": "5630daec",
   "metadata": {},
   "outputs": [
    {
     "name": "stdout",
     "output_type": "stream",
     "text": [
      "=== Performance du modèle Random Forest ===\n",
      "R² : 0.940\n",
      "RMSE : 88.661\n"
     ]
    }
   ],
   "source": [
    "# Évaluation des performances\n",
    "print(\"=== Performance du modèle Random Forest ===\")\n",
    "print(f\"R² : {r2_score(y_test, y_pred_rf):.3f}\")\n",
    "print(f\"RMSE : {np.sqrt(mean_squared_error(y_test, y_pred_rf)):.3f}\")"
   ]
  },
  {
   "cell_type": "code",
   "execution_count": 113,
   "id": "2d14c5b2",
   "metadata": {},
   "outputs": [
    {
     "data": {
      "image/png": "[encoded data removed]",
      "text/plain": [
       "<Figure size 1000x600 with 1 Axes>"
      ]
     },
     "metadata": {},
     "output_type": "display_data"
    },
    {
     "data": {
      "image/png": "[encoded data removed]",
      "text/plain": [
       "<Figure size 1000x600 with 1 Axes>"
      ]
     },
     "metadata": {},
     "output_type": "display_data"
    }
   ],
   "source": [
    "# Visualisation des résidus pour Random Forest\n",
    "residuals_rf = y_test - y_pred_rf\n",
    "\n",
    "plt.figure(figsize=(10, 6))\n",
    "plt.scatter(y_pred_rf, residuals_rf)\n",
    "plt.axhline(0, color='red', linestyle='--')\n",
    "plt.title(\"Résidus vs Prédictions (random forest)\")\n",
    "plt.xlabel(\"Prédictions\")\n",
    "plt.ylabel(\"Résidus\")\n",
    "plt.show()\n",
    "\n",
    "# Histogramme des résidus\n",
    "plt.figure(figsize=(10, 6))\n",
    "plt.hist(residuals_rf, bins=20, edgecolor=\"black\")\n",
    "plt.title(\"Distribution des résidus (random forest)\")\n",
    "plt.xlabel(\"Résidus\")\n",
    "plt.ylabel(\"Fréquence\")\n",
    "plt.show()"
   ]
  },
  {
   "cell_type": "code",
   "execution_count": 114,
   "id": "f04f5a43",
   "metadata": {},
   "outputs": [
    {
     "name": "stdout",
     "output_type": "stream",
     "text": [
      "Meilleurs paramètres pour Random Forest : {'max_depth': 10, 'min_samples_split': 2, 'n_estimators': 300}\n",
      "R² (Random Forest optimisé): 0.9393098272757862\n"
     ]
    }
   ],
   "source": [
    "from sklearn.model_selection import GridSearchCV\n",
    "\n",
    "# Paramètres à tester pour Random Forest\n",
    "param_grid_rf = {\n",
    "    'n_estimators': [100, 200, 300],\n",
    "    'max_depth': [None, 10, 20],\n",
    "    'min_samples_split': [2, 5, 10]\n",
    "}\n",
    "\n",
    "# GridSearchCV pour Random Forest\n",
    "grid_rf = GridSearchCV(RandomForestRegressor(random_state=42), param_grid_rf, cv=5, scoring='neg_mean_squared_error')\n",
    "grid_rf.fit(X_train, y_train)\n",
    "\n",
    "print(\"Meilleurs paramètres pour Random Forest :\", grid_rf.best_params_)\n",
    "\n",
    "# Réentraîner avec les meilleurs paramètres\n",
    "best_rf_model = grid_rf.best_estimator_\n",
    "y_pred_best_rf = best_rf_model.predict(X_test)\n",
    "\n",
    "print(\"R² (Random Forest optimisé):\", r2_score(y_test, y_pred_best_rf))"
   ]
  },
  {
   "cell_type": "code",
   "execution_count": 115,
   "id": "f9638252",
   "metadata": {},
   "outputs": [
    {
     "name": "stderr",
     "output_type": "stream",
     "text": [
      "c:\\anaconda\\envs\\MLOPs\\Lib\\site-packages\\sklearn\\metrics\\_regression.py:492: FutureWarning: 'squared' is deprecated in version 1.4 and will be removed in 1.6. To calculate the root mean squared error, use the function'root_mean_squared_error'.\n",
      "  warnings.warn(\n",
      "c:\\anaconda\\envs\\MLOPs\\Lib\\site-packages\\sklearn\\metrics\\_regression.py:492: FutureWarning: 'squared' is deprecated in version 1.4 and will be removed in 1.6. To calculate the root mean squared error, use the function'root_mean_squared_error'.\n",
      "  warnings.warn(\n",
      "c:\\anaconda\\envs\\MLOPs\\Lib\\site-packages\\sklearn\\metrics\\_regression.py:492: FutureWarning: 'squared' is deprecated in version 1.4 and will be removed in 1.6. To calculate the root mean squared error, use the function'root_mean_squared_error'.\n",
      "  warnings.warn(\n",
      "c:\\anaconda\\envs\\MLOPs\\Lib\\site-packages\\sklearn\\metrics\\_regression.py:492: FutureWarning: 'squared' is deprecated in version 1.4 and will be removed in 1.6. To calculate the root mean squared error, use the function'root_mean_squared_error'.\n",
      "  warnings.warn(\n",
      "c:\\anaconda\\envs\\MLOPs\\Lib\\site-packages\\sklearn\\metrics\\_regression.py:492: FutureWarning: 'squared' is deprecated in version 1.4 and will be removed in 1.6. To calculate the root mean squared error, use the function'root_mean_squared_error'.\n",
      "  warnings.warn(\n",
      "c:\\anaconda\\envs\\MLOPs\\Lib\\site-packages\\sklearn\\metrics\\_regression.py:492: FutureWarning: 'squared' is deprecated in version 1.4 and will be removed in 1.6. To calculate the root mean squared error, use the function'root_mean_squared_error'.\n",
      "  warnings.warn(\n",
      "c:\\anaconda\\envs\\MLOPs\\Lib\\site-packages\\sklearn\\metrics\\_regression.py:492: FutureWarning: 'squared' is deprecated in version 1.4 and will be removed in 1.6. To calculate the root mean squared error, use the function'root_mean_squared_error'.\n",
      "  warnings.warn(\n",
      "c:\\anaconda\\envs\\MLOPs\\Lib\\site-packages\\sklearn\\metrics\\_regression.py:492: FutureWarning: 'squared' is deprecated in version 1.4 and will be removed in 1.6. To calculate the root mean squared error, use the function'root_mean_squared_error'.\n",
      "  warnings.warn(\n"
     ]
    },
    {
     "name": "stdout",
     "output_type": "stream",
     "text": [
      "\n",
      "=== Résultats de la validation croisée ===\n",
      "R² moyen : 0.9505927414725075\n",
      "RMSE moyen : 71.98025701512339\n",
      "\n",
      "=== Performance de classification ===\n",
      "Accuracy : 0.951\n"
     ]
    },
    {
     "name": "stderr",
     "output_type": "stream",
     "text": [
      "c:\\anaconda\\envs\\MLOPs\\Lib\\site-packages\\sklearn\\metrics\\_regression.py:492: FutureWarning: 'squared' is deprecated in version 1.4 and will be removed in 1.6. To calculate the root mean squared error, use the function'root_mean_squared_error'.\n",
      "  warnings.warn(\n",
      "c:\\anaconda\\envs\\MLOPs\\Lib\\site-packages\\sklearn\\metrics\\_regression.py:492: FutureWarning: 'squared' is deprecated in version 1.4 and will be removed in 1.6. To calculate the root mean squared error, use the function'root_mean_squared_error'.\n",
      "  warnings.warn(\n"
     ]
    },
    {
     "data": {
      "image/png": "[encoded data removed]",
      "text/plain": [
       "<Figure size 800x600 with 2 Axes>"
      ]
     },
     "metadata": {},
     "output_type": "display_data"
    }
   ],
   "source": [
    "# Importation des bibliothèques nécessaires\n",
    "import pandas as pd\n",
    "import numpy as np\n",
    "from sklearn.model_selection import train_test_split, KFold, cross_val_score, cross_validate\n",
    "from sklearn.ensemble import RandomForestRegressor\n",
    "from sklearn.metrics import mean_squared_error, r2_score, confusion_matrix, accuracy_score, make_scorer\n",
    "import matplotlib.pyplot as plt\n",
    "import seaborn as sns\n",
    "\n",
    "# Validation croisée pour Random Forest\n",
    "kfold = KFold(n_splits=5, shuffle=True, random_state=10)\n",
    "\n",
    "# Créer une métrique RMSE personnalisée\n",
    "rmse_scorer = make_scorer(mean_squared_error, squared=False)\n",
    "\n",
    "# Validation croisée avec plusieurs métriques\n",
    "results = cross_validate(rf_model, X_train, y_train, cv=kfold,\n",
    "                         scoring={'r2': 'r2', 'rmse': rmse_scorer},\n",
    "                         return_train_score=True)\n",
    "\n",
    "print(\"\\n=== Résultats de la validation croisée ===\")\n",
    "print(\"R² moyen :\", results['test_r2'].mean())\n",
    "print(\"RMSE moyen :\", results['test_rmse'].mean())\n",
    "\n",
    "# Conversion des valeurs pour une tâche de classification\n",
    "def classify(y):\n",
    "    y_c = np.zeros_like(y, dtype=int)\n",
    "    for i in range(len(y)):\n",
    "        if y[i] < 50:\n",
    "            y_c[i] = 0\n",
    "        elif y[i] < 100:\n",
    "            y_c[i] = 1\n",
    "        elif y[i] < 200:\n",
    "            y_c[i] = 2\n",
    "        elif y[i] < 300:\n",
    "            y_c[i] = 3\n",
    "        else:\n",
    "            y_c[i] = 4\n",
    "    return y_c\n",
    "\n",
    "# Classification des valeurs réelles et prédites\n",
    "y_c = classify(y_test.to_numpy())\n",
    "y_c_hat = classify(y_pred_rf)\n",
    "\n",
    "# Évaluation des performances de classification\n",
    "print(\"\\n=== Performance de classification ===\")\n",
    "print(f\"Accuracy : {accuracy_score(y_c, y_c_hat):.3f}\")\n",
    "cm = confusion_matrix(y_c, y_c_hat)\n",
    "\n",
    "# Affichage de la matrice de confusion\n",
    "plt.figure(figsize=(8, 6))\n",
    "sns.heatmap(cm, annot=True, fmt=\"d\", cmap=\"Blues\")\n",
    "plt.ylabel(\"True Labels\")\n",
    "plt.xlabel(\"Predicted Labels\")\n",
    "plt.title(\"Matrice de confusion\")\n",
    "plt.show()"
   ]
  },
  {
   "cell_type": "code",
   "execution_count": null,
   "id": "260f030a",
   "metadata": {},
   "outputs": [],
   "source": []
  }
 ],
 "metadata": {
  "kernelspec": {
   "display_name": "MLOPs",
   "language": "python",
   "name": "python3"
  },
  "language_info": {
   "codemirror_mode": {
    "name": "ipython",
    "version": 3
   },
   "file_extension": ".py",
   "mimetype": "text/x-python",
   "name": "python",
   "nbconvert_exporter": "python",
   "pygments_lexer": "ipython3",
   "version": "3.12.7"
  },
  "papermill": {
   "default_parameters": {},
   "duration": 21.015419,
   "end_time": "2023-05-28T18:34:58.113962",
   "environment_variables": {},
   "exception": null,
   "input_path": "__notebook__.ipynb",
   "output_path": "__notebook__.ipynb",
   "parameters": {},
   "start_time": "2023-05-28T18:34:37.098543",
   "version": "2.4.0"
  }
 },
 "nbformat": 4,
 "nbformat_minor": 5
}
